{
 "cells": [
  {
   "cell_type": "code",
   "execution_count": 9,
   "id": "948ee12b",
   "metadata": {},
   "outputs": [
    {
     "data": {
      "text/plain": [
       "28"
      ]
     },
     "execution_count": 9,
     "metadata": {},
     "output_type": "execute_result"
    }
   ],
   "source": [
    "import random\n",
    "rand_no = random.randint(0, 200)\n",
    "rand_no"
   ]
  },
  {
   "cell_type": "code",
   "execution_count": null,
   "id": "a4b2ede5",
   "metadata": {},
   "outputs": [],
   "source": [
    "print(\"2 multiple\")\n",
    "for i in range(2, 13):\n",
    "    for a in range(1, 13):\n",
    "        print(i, \"x\", a, \"=\", a * i)\n",
    "    print(\"===============\")\n",
    "    print(i + 1, \"multiple\")"
   ]
  },
  {
   "cell_type": "code",
   "execution_count": null,
   "id": "a54a009d",
   "metadata": {},
   "outputs": [],
   "source": [
    "i = 1\n",
    "a = 2\n",
    "while i < 13:\n",
    "    for a in range(1, 13):\n",
    "        print(i, \"x\", a, \"=\", a * i)\n",
    "    i+=1"
   ]
  },
  {
   "cell_type": "markdown",
   "id": "be012d9c",
   "metadata": {},
   "source": [
    "## Python Functions"
   ]
  },
  {
   "cell_type": "raw",
   "id": "22f54070",
   "metadata": {},
   "source": [
    "A function is a block of code which only runs when it is called.\n",
    "\n",
    "You can pass data, known as parameters, into a function.\n",
    "\n",
    "A function can return data as a result.\n",
    "\n",
    "Creating a Function\n",
    "In Python a function is defined using the def keyword:"
   ]
  },
  {
   "cell_type": "code",
   "execution_count": null,
   "id": "9b75d07a",
   "metadata": {},
   "outputs": [],
   "source": [
    "def my_function():\n",
    "    print(\"Hello from a function\")"
   ]
  },
  {
   "cell_type": "code",
   "execution_count": null,
   "id": "07234f4b",
   "metadata": {},
   "outputs": [],
   "source": [
    "def my_function():\n",
    "    print(\"Hello from a function\")\n",
    "\n",
    "my_function()"
   ]
  },
  {
   "cell_type": "raw",
   "id": "a940b255",
   "metadata": {},
   "source": [
    "Arguments\n",
    "\n",
    "Information can be passed into functions as arguments.\n",
    "\n",
    "Arguments are specified after the function name, inside the parentheses. \n",
    "You can add as many arguments as you want, just separate them with a comma.\n",
    "\n",
    "The following example has a function with one argument (fname). \n",
    "When the function is called, we pass along a first name, \n",
    "which is used inside the function to print the full name:"
   ]
  },
  {
   "cell_type": "code",
   "execution_count": null,
   "id": "4254c120",
   "metadata": {},
   "outputs": [],
   "source": [
    "def my_function(fname):\n",
    "    print(fname + \" Refsnes\")\n",
    "\n",
    "my_function(\"Emil\")\n",
    "my_function(\"Tobias\")\n",
    "my_function(\"Linus\")"
   ]
  },
  {
   "cell_type": "raw",
   "id": "4a278aa2",
   "metadata": {},
   "source": [
    "From a function's perspective:\n",
    "\n",
    "A parameter is the variable listed inside the parentheses in the function definition.\n",
    "An argument is the value that is sent to the function when it is called."
   ]
  },
  {
   "cell_type": "raw",
   "id": "6b4718be",
   "metadata": {},
   "source": [
    "Number of Arguments\n",
    "\n",
    "By default, a function must be called with the correct number of arguments. \n",
    "Meaning that if your function expects 2 arguments, \n",
    "you have to call the function with 2 arguments, not more, and not less."
   ]
  },
  {
   "cell_type": "code",
   "execution_count": 5,
   "id": "eebe7d6a",
   "metadata": {},
   "outputs": [
    {
     "data": {
      "text/plain": [
       "3"
      ]
     },
     "execution_count": 5,
     "metadata": {},
     "output_type": "execute_result"
    }
   ],
   "source": [
    "def func(a):\n",
    "    return(a)\n",
    "\n",
    "func(3)"
   ]
  },
  {
   "cell_type": "code",
   "execution_count": null,
   "id": "cca8888b",
   "metadata": {},
   "outputs": [],
   "source": [
    "#This function expects 2 arguments, and gets 2 arguments:\n",
    "def my_function(fname, lname):\n",
    "    print(fname + \" \" + lname)\n",
    "\n",
    "my_function(\"Emil\", \"Refsnes\")"
   ]
  },
  {
   "cell_type": "code",
   "execution_count": 5,
   "id": "66f3c637",
   "metadata": {},
   "outputs": [],
   "source": [
    "def details(fullname, email):\n",
    "    print(\"we have gotten your fullname which is : \"+fullname+ \" and email which is: \" +email)"
   ]
  },
  {
   "cell_type": "code",
   "execution_count": 6,
   "id": "2d7475d2",
   "metadata": {},
   "outputs": [
    {
     "name": "stdout",
     "output_type": "stream",
     "text": [
      "we have gotten your fullname which is : victor and email which is: victor@yahoo.com\n"
     ]
    }
   ],
   "source": [
    "details(\"victor\", \"victor@yahoo.com\")"
   ]
  },
  {
   "cell_type": "code",
   "execution_count": 9,
   "id": "61b0d8c1",
   "metadata": {},
   "outputs": [],
   "source": [
    "def add(a, b):\n",
    "    print(a+b)"
   ]
  },
  {
   "cell_type": "code",
   "execution_count": 18,
   "id": "4be1d2ae",
   "metadata": {},
   "outputs": [
    {
     "name": "stdout",
     "output_type": "stream",
     "text": [
      "8\n"
     ]
    }
   ],
   "source": [
    "entry1 = int(input(\"enter first number for addition\"))\n",
    "entry2 = int(input(\"enter second number for addition\"))\n",
    "\n",
    "add(entry1, entry2)"
   ]
  },
  {
   "cell_type": "code",
   "execution_count": 17,
   "id": "4f0ac7ac",
   "metadata": {},
   "outputs": [
    {
     "name": "stdout",
     "output_type": "stream",
     "text": [
      "name is less than 6 letter words, you need to try again\n",
      "meanwhile you have  4  opportunies left to try\n",
      "name accepted and registered\n"
     ]
    }
   ],
   "source": [
    "#enter your name 5 times but must be 6 letter words\n",
    "\n",
    "#Assignment - function to get the multiplication table of any number entered by a user.\n"
   ]
  },
  {
   "cell_type": "markdown",
   "id": "4d8454d3",
   "metadata": {},
   "source": [
    "## Arbitrary Arguments, *args"
   ]
  },
  {
   "cell_type": "raw",
   "id": "e5f50357",
   "metadata": {},
   "source": [
    "If you do not know how many arguments that will be passed into your function, \n",
    "add a * before the parameter name in the function definition.\n",
    "\n",
    "This way the function will receive a tuple of arguments, and can access the items accordingly:"
   ]
  },
  {
   "cell_type": "code",
   "execution_count": 13,
   "id": "c79c610c",
   "metadata": {},
   "outputs": [],
   "source": [
    "#If the number of arguments is unknown, add a * before the parameter name:\n",
    "\n",
    "def my_function(*kids):\n",
    "    print(\"The number of kids \" , len(kids))"
   ]
  },
  {
   "cell_type": "code",
   "execution_count": 19,
   "id": "961d8a29",
   "metadata": {},
   "outputs": [
    {
     "name": "stdout",
     "output_type": "stream",
     "text": [
      "the nameayo\n",
      "the namebola\n",
      "The number of kids  2\n"
     ]
    }
   ],
   "source": [
    "firstkid = input(\"the name\")\n",
    "secondkid = input(\"the name\")\n",
    "\n",
    "my_function(firstkid, secondkid)"
   ]
  },
  {
   "cell_type": "code",
   "execution_count": 7,
   "id": "0031dd64",
   "metadata": {},
   "outputs": [
    {
     "name": "stdout",
     "output_type": "stream",
     "text": [
      "The youngest child is Linus\n"
     ]
    }
   ],
   "source": [
    "#If the number of arguments is unknown, add a * before the parameter name:\n",
    "def my_function(*kids):\n",
    "    print(\"The youngest child is \" + kids[-1])\n",
    "    \n",
    "my_function(\"Emil\", \"Tobias\", \"Linus\")"
   ]
  },
  {
   "cell_type": "code",
   "execution_count": null,
   "id": "880ec0d3",
   "metadata": {},
   "outputs": [],
   "source": []
  },
  {
   "cell_type": "markdown",
   "id": "7c4fd3aa",
   "metadata": {},
   "source": [
    "## Arbitrary Keyword Arguments, **kwargs"
   ]
  },
  {
   "cell_type": "raw",
   "id": "5d82ad57",
   "metadata": {},
   "source": [
    "If you do not know how many keyword arguments that will be passed into your function, \n",
    "add two asterisk: ** before the parameter name in the function definition.\n",
    "\n",
    "This way the function will receive a dictionary of arguments, and can access the items accordingly:"
   ]
  },
  {
   "cell_type": "code",
   "execution_count": 32,
   "id": "a5fbab13",
   "metadata": {},
   "outputs": [],
   "source": [
    "def myfunc(**name):\n",
    "    print(name)"
   ]
  },
  {
   "cell_type": "code",
   "execution_count": 35,
   "id": "735f196d",
   "metadata": {},
   "outputs": [
    {
     "name": "stdout",
     "output_type": "stream",
     "text": [
      "{'name1': 'bimpe', 'name2': 'sola'}\n"
     ]
    }
   ],
   "source": [
    "myfunc(name1=\"bimpe\", name2=\"sola\")"
   ]
  },
  {
   "cell_type": "code",
   "execution_count": 5,
   "id": "35f05443",
   "metadata": {},
   "outputs": [
    {
     "name": "stdout",
     "output_type": "stream",
     "text": [
      "His last name is Refsnes\n"
     ]
    }
   ],
   "source": [
    "#If the number of keyword arguments is unknown, add a double ** before the parameter name:\n",
    "\n",
    "def my_function(**kid):\n",
    "      print(\"His last name is \" + kid[\"lname\"])\n",
    "\n",
    "my_function(fname = \"Tobias\", lname = \"Refsnes\")"
   ]
  },
  {
   "cell_type": "code",
   "execution_count": null,
   "id": "67083d84",
   "metadata": {},
   "outputs": [],
   "source": []
  },
  {
   "cell_type": "code",
   "execution_count": 1,
   "id": "ba921ffd",
   "metadata": {},
   "outputs": [],
   "source": [
    "# Default Parameter Value\n",
    "\n",
    "# The following example shows how to use a default parameter value\n",
    "# If we call the function without argument, it uses the default value:"
   ]
  },
  {
   "cell_type": "code",
   "execution_count": 6,
   "id": "8e2819b0",
   "metadata": {},
   "outputs": [
    {
     "name": "stdout",
     "output_type": "stream",
     "text": [
      "I am from Sweden\n",
      "I am from India\n",
      "I am from Norway\n",
      "I am from Brazil\n"
     ]
    }
   ],
   "source": [
    "def my_function(country = \"Norway\"):\n",
    "    print(\"I am from \" + country)\n",
    "\n",
    "my_function(\"Sweden\")\n",
    "my_function(\"India\")\n",
    "my_function()\n",
    "my_function(\"Brazil\")"
   ]
  },
  {
   "cell_type": "raw",
   "id": "5d4596c9",
   "metadata": {},
   "source": [
    "Passing a List as an Argument\n",
    "\n",
    "You can send any data types of argument to a function (string, number, list, dictionary etc.), \n",
    "and it will be treated as the same data type inside the function.\n",
    "E.g. if you send a List as an argument, it will still be a List when it reaches the function:"
   ]
  },
  {
   "cell_type": "code",
   "execution_count": null,
   "id": "10e897b8",
   "metadata": {},
   "outputs": [],
   "source": [
    "def my_function(food):\n",
    "    for x in food:\n",
    "     (x)\n",
    "\n",
    "fruits = [\"apple\", \"banana\", \"cherry\"]\n",
    "\n",
    "my_function(fruits)"
   ]
  },
  {
   "cell_type": "code",
   "execution_count": null,
   "id": "abea914e",
   "metadata": {},
   "outputs": [],
   "source": [
    "#Return Values\n",
    "#To let a function return a value, use the return statement:"
   ]
  },
  {
   "cell_type": "code",
   "execution_count": null,
   "id": "2ae015e7",
   "metadata": {},
   "outputs": [],
   "source": [
    "def my_function(x):\n",
    "    return 5 * x\n",
    "\n",
    "print(my_function(3))\n",
    "print(my_function(5))\n",
    "print(my_function(9))"
   ]
  },
  {
   "cell_type": "markdown",
   "id": "367d95cb",
   "metadata": {},
   "source": [
    "## Recursion"
   ]
  },
  {
   "cell_type": "raw",
   "id": "6364cb47",
   "metadata": {},
   "source": [
    "Python also accepts function recursion, which means a defined function can call itself.\n",
    "\n",
    "Recursion is a common mathematical and programming concept. It means that a function calls itself. \n",
    "This has the benefit of meaning that you can loop through data to reach a result.\n",
    "\n",
    "The developer should be very careful with recursion as it can be quite easy to slip into writing a function which never terminates, or one that uses excess amounts of memory or processor power. However, \n",
    "when written correctly recursion can be a very efficient and mathematically-elegant approach to programming.\n",
    "\n",
    "In this example, tri_recursion() is a function that we have defined to call itself (\"recurse\"). \n",
    "We use the k variable as the data, which decrements (-1) every time we recurse. \n",
    "The recursion ends when the condition is not greater than 0 (i.e. when it is 0).\n",
    "\n",
    "To a new developer it can take some time to work out how exactly this works, \n",
    "best way to find out is by testing and modifying it."
   ]
  },
  {
   "cell_type": "code",
   "execution_count": 8,
   "id": "fe7beedc",
   "metadata": {},
   "outputs": [
    {
     "name": "stdout",
     "output_type": "stream",
     "text": [
      "\n",
      "\n",
      "Recursion Example Results\n",
      "1\n",
      "3\n",
      "6\n",
      "10\n",
      "15\n",
      "21\n"
     ]
    },
    {
     "data": {
      "text/plain": [
       "21"
      ]
     },
     "execution_count": 8,
     "metadata": {},
     "output_type": "execute_result"
    }
   ],
   "source": [
    "#Recursion Example\n",
    "def tri_recursion(k):\n",
    "    if(k > 0):\n",
    "        result = k + tri_recursion(k - 1)\n",
    "        print(result)\n",
    "    else:\n",
    "        result = 0\n",
    "    return result\n",
    "\n",
    "print(\"\\n\\nRecursion Example Results\")\n",
    "tri_recursion(6)"
   ]
  },
  {
   "cell_type": "markdown",
   "id": "3c1cdfe1",
   "metadata": {},
   "source": [
    "## Python Lambda"
   ]
  },
  {
   "cell_type": "raw",
   "id": "3fd77bd1",
   "metadata": {},
   "source": [
    "A lambda function is a small anonymous function.\n",
    "A lambda function can take any number of arguments, but can only have one expression."
   ]
  },
  {
   "cell_type": "raw",
   "id": "078f37a1",
   "metadata": {},
   "source": [
    "Syntax\n",
    "lambda arguments : expression\n",
    "The expression is executed and the result is returned:"
   ]
  },
  {
   "cell_type": "code",
   "execution_count": 36,
   "id": "9be20b0c",
   "metadata": {},
   "outputs": [
    {
     "name": "stdout",
     "output_type": "stream",
     "text": [
      "15\n"
     ]
    }
   ],
   "source": [
    "#Add 10 to argument a, and return the result:\n",
    "x = lambda a : a + 10\n",
    "print(x(5))"
   ]
  },
  {
   "cell_type": "code",
   "execution_count": 37,
   "id": "ac5a5213",
   "metadata": {},
   "outputs": [
    {
     "name": "stdout",
     "output_type": "stream",
     "text": [
      "30\n"
     ]
    }
   ],
   "source": [
    "#Multiply argument a with argument b and return the result:\n",
    "x = lambda a, b : a * b\n",
    "print(x(5, 6))"
   ]
  },
  {
   "cell_type": "code",
   "execution_count": 2,
   "id": "7e9769bc",
   "metadata": {},
   "outputs": [
    {
     "name": "stdout",
     "output_type": "stream",
     "text": [
      "13\n"
     ]
    }
   ],
   "source": [
    "#Summarize argument a, b, and c and return the result:\n",
    "x = lambda a, b, c : a + b + c\n",
    "print(x(5, 6, 2))"
   ]
  },
  {
   "cell_type": "markdown",
   "id": "81b30a0c",
   "metadata": {},
   "source": [
    "#### Why Use Lambda Functions?"
   ]
  },
  {
   "cell_type": "raw",
   "id": "72e20e20",
   "metadata": {},
   "source": [
    "The power of lambda is better shown when you use them as an anonymous function inside another function.\n",
    "\n",
    "Say you have a function definition that takes one argument, \n",
    "and that argument will be multiplied with an unknown number:"
   ]
  },
  {
   "cell_type": "code",
   "execution_count": 40,
   "id": "43130998",
   "metadata": {},
   "outputs": [
    {
     "name": "stdout",
     "output_type": "stream",
     "text": [
      "4\n"
     ]
    }
   ],
   "source": [
    "def myfunc(n):\n",
    "    return lambda a : a * n\n",
    "    \n",
    "\n",
    "x = myfunc(2)\n",
    "print(x(2))"
   ]
  },
  {
   "cell_type": "code",
   "execution_count": 41,
   "id": "565d1adb",
   "metadata": {},
   "outputs": [
    {
     "name": "stdout",
     "output_type": "stream",
     "text": [
      "33\n"
     ]
    }
   ],
   "source": [
    "def myfunc(n):\n",
    "    return lambda a : a * n\n",
    "\n",
    "mytripler = myfunc(3)\n",
    "\n",
    "print(mytripler(11))"
   ]
  },
  {
   "cell_type": "code",
   "execution_count": null,
   "id": "4987b154",
   "metadata": {},
   "outputs": [],
   "source": [
    "def myfunc(n):\n",
    "    return lambda a : a * n\n",
    "\n",
    "mydoubler = myfunc(2)\n",
    "mytripler = myfunc(3)\n",
    "\n",
    "print(mydoubler(11))\n",
    "print(mytripler(11))"
   ]
  },
  {
   "cell_type": "markdown",
   "id": "f453687a",
   "metadata": {},
   "source": [
    "## Python Classes/Objects"
   ]
  },
  {
   "cell_type": "raw",
   "id": "0e2eb251",
   "metadata": {},
   "source": [
    "Python is an object oriented programming language.\n",
    "Almost everything in Python is an object, with its properties and methods.\n",
    "A Class is like an object constructor, or a \"blueprint\" for creating objects."
   ]
  },
  {
   "cell_type": "raw",
   "id": "cf3adf44",
   "metadata": {},
   "source": [
    "Create a Class\n",
    "To create a class, use the keyword class:"
   ]
  },
  {
   "cell_type": "code",
   "execution_count": 42,
   "id": "247e7bdd",
   "metadata": {},
   "outputs": [],
   "source": [
    "#Create a class named MyClass, with a property named x:\n",
    "class MyClass:\n",
    "    x = 5"
   ]
  },
  {
   "cell_type": "code",
   "execution_count": 43,
   "id": "aba73da1",
   "metadata": {},
   "outputs": [
    {
     "name": "stdout",
     "output_type": "stream",
     "text": [
      "5\n"
     ]
    }
   ],
   "source": [
    "#Create an object named p1, and print the value of x:\n",
    "\n",
    "p1 = MyClass()\n",
    "print(p1.x)"
   ]
  },
  {
   "cell_type": "markdown",
   "id": "69ec148e",
   "metadata": {},
   "source": [
    "## The __init__() Function"
   ]
  },
  {
   "cell_type": "raw",
   "id": "ef582189",
   "metadata": {},
   "source": [
    "\n",
    "The examples above are classes and objects in their simplest form, \n",
    "and are not really useful in real life applications.\n",
    "\n",
    "To understand the meaning of classes we have to understand the built-in __init__() function.\n",
    "\n",
    "All classes have a function called __init__(), which is always executed when the class is being initiated.\n",
    "\n",
    "Use the __init__() function to assign values to object properties, \n",
    "or other operations that are necessary to do when the object is being created:"
   ]
  },
  {
   "cell_type": "code",
   "execution_count": 48,
   "id": "48a69d26",
   "metadata": {},
   "outputs": [
    {
     "name": "stdout",
     "output_type": "stream",
     "text": [
      "10\n"
     ]
    }
   ],
   "source": [
    "#Create a class named Person, use the __init__() function to assign values for name and age:\n",
    "\n",
    "class Person:\n",
    "    def __init__(self, name, age):\n",
    "        self.name = name\n",
    "        self.age = age\n",
    "\n",
    "p1 = Person(\"John\", 36)\n",
    "\n",
    "print(p1.name)\n",
    "print(p1.age)"
   ]
  },
  {
   "cell_type": "code",
   "execution_count": 1,
   "id": "73f7c165",
   "metadata": {},
   "outputs": [
    {
     "name": "stdout",
     "output_type": "stream",
     "text": [
      "30\n"
     ]
    }
   ],
   "source": [
    "class Item:\n",
    "    def __init__(self, x):\n",
    "        self.x = x\n",
    "\n",
    "p2 = Item(30)\n",
    "print(p2.x)"
   ]
  },
  {
   "cell_type": "code",
   "execution_count": 27,
   "id": "2baf94ff",
   "metadata": {},
   "outputs": [
    {
     "name": "stdout",
     "output_type": "stream",
     "text": [
      "24\n"
     ]
    }
   ],
   "source": [
    "def multiply(): \n",
    "   s = int(input(\"input your number\"))\n",
    "   m = int(input(\"input your number\"))\n",
    "   print(s * m) \n",
    "multiply()"
   ]
  },
  {
   "cell_type": "code",
   "execution_count": 20,
   "id": "9ad4099c",
   "metadata": {},
   "outputs": [
    {
     "name": "stdout",
     "output_type": "stream",
     "text": [
      "2\n"
     ]
    }
   ],
   "source": [
    "def multiplication(a, b):\n",
    "    print(a * b)\n",
    "\n",
    "multiplication(1, 2)\n",
    "\n",
    "   "
   ]
  },
  {
   "cell_type": "code",
   "execution_count": 8,
   "id": "87fca0df",
   "metadata": {},
   "outputs": [
    {
     "name": "stdout",
     "output_type": "stream",
     "text": [
      "Yes, the word is 6 characters long.\n",
      "['victor']\n",
      "you have 4 left\n",
      "No, the word is not 6 characters long.\n",
      "['victor']\n",
      "you have 3 left\n",
      "No, the word is not 6 characters long.\n",
      "['victor']\n",
      "you have 2 left\n",
      "No, the word is not 6 characters long.\n",
      "['victor']\n",
      "you have 1 left\n",
      "No, the word is not 6 characters long.\n",
      "['victor']\n",
      "you have 0 left\n",
      "you entered correctly 1 times\n",
      "No, the word is not 6 characters long.\n",
      "['victor']\n",
      "you have 4 left\n",
      "No, the word is not 6 characters long.\n",
      "['victor']\n",
      "you have 3 left\n",
      "No, the word is not 6 characters long.\n",
      "['victor']\n",
      "you have 2 left\n",
      "Yes, the word is 6 characters long.\n",
      "['victor', 'victor']\n",
      "you have 1 left\n",
      "No, the word is not 6 characters long.\n",
      "['victor', 'victor']\n",
      "you have 0 left\n",
      "you entered correctly 2 times\n"
     ]
    }
   ],
   "source": [
    "mylist = []\n",
    "max_num = 5\n",
    "\n",
    "for _ in range(5):\n",
    "    word =str(input(\"input you name\"))\n",
    "    \n",
    "    \n",
    "    if len(word) == 6:\n",
    "        mylist.append(word)\n",
    "        print(\"Yes, the word is 6 characters long.\")\n",
    "    else:\n",
    "        print(\"No, the word is not 6 characters long.\")\n",
    "    print(mylist)\n",
    "    max_num -= 1\n",
    "    print(f\"you have {max_num} left\")\n",
    "\n",
    "print(f\"you entered correctly {len(mylist)} times\")\n",
    "\n",
    "\n",
    "\n",
    "\n",
    "def level2():\n",
    " mylist = []\n",
    "max_num = 5\n",
    "\n",
    "for _ in range(5):\n",
    "    word =str(input(\"input you name\"))\n",
    "    \n",
    "    \n",
    "    if len(word) == 6:\n",
    "        mylist.append(word)\n",
    "        print(\"Yes, the word is 6 characters long.\")\n",
    "    else:\n",
    "        print(\"No, the word is not 6 characters long.\")\n",
    "    print(mylist)\n",
    "    max_num -= 1\n",
    "    print(f\"you have {max_num} left\")\n",
    "\n",
    "print(f\"you entered correctly {len(mylist)} times\")\n",
    "  \n",
    "\n",
    "\n",
    "\n",
    "    \n",
    "    \n",
    "          \n",
    "\n",
    "\n"
   ]
  },
  {
   "cell_type": "code",
   "execution_count": null,
   "id": "bacd60ae",
   "metadata": {},
   "outputs": [],
   "source": []
  }
 ],
 "metadata": {
  "kernelspec": {
   "display_name": "Python 3 (ipykernel)",
   "language": "python",
   "name": "python3"
  },
  "language_info": {
   "codemirror_mode": {
    "name": "ipython",
    "version": 3
   },
   "file_extension": ".py",
   "mimetype": "text/x-python",
   "name": "python",
   "nbconvert_exporter": "python",
   "pygments_lexer": "ipython3",
   "version": "3.9.6"
  }
 },
 "nbformat": 4,
 "nbformat_minor": 5
}
