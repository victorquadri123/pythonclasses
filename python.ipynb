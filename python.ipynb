{
 "cells": [
  {
   "cell_type": "code",
   "execution_count": 6,
   "metadata": {},
   "outputs": [],
   "source": [
    "from tkinter import *\n",
    "top = Tk()\n",
    "mylabel = Label(top, text = \"hello world\")\n",
    "mylabel.grid(row=0, column=1)\n",
    "mylabel.pack()\n",
    "top.mainloop()\n",
    "# ipadx and ipady it represent the number of pixel "
   ]
  },
  {
   "cell_type": "code",
   "execution_count": null,
   "metadata": {},
   "outputs": [],
   "source": [
    "from tkinter import *\n",
    "top = Tk()\n",
    "mylabel = Label(top, text = \"hello world\").grid(row=0, column=1) \n",
    "top.mainloop()"
   ]
  },
  {
   "cell_type": "code",
   "execution_count": 1,
   "metadata": {},
   "outputs": [
    {
     "ename": "",
     "evalue": "",
     "output_type": "error",
     "traceback": [
      "\u001b[1;31mThe Kernel crashed while executing code in the current cell or a previous cell. \n",
      "\u001b[1;31mPlease review the code in the cell(s) to identify a possible cause of the failure. \n",
      "\u001b[1;31mClick <a href='https://aka.ms/vscodeJupyterKernelCrash'>here</a> for more info. \n",
      "\u001b[1;31mView Jupyter <a href='command:jupyter.viewOutput'>log</a> for further details."
     ]
    }
   ],
   "source": [
    "# how to create a button\n",
    "from tkinter import *\n",
    "\n",
    "top = Tk()\n",
    "\n",
    "mybutton = Button(top, text= \"click me\",pady= 100)  #(state= disabled ) this is to disable a button\n",
    "mybutton.pack()\n",
    "top.mainloop()\n",
    "# padx and pady is used to make the button wide and longer"
   ]
  },
  {
   "cell_type": "code",
   "execution_count": 9,
   "metadata": {},
   "outputs": [
    {
     "ename": "",
     "evalue": "",
     "output_type": "error",
     "traceback": [
      "\u001b[1;31mThe Kernel crashed while executing code in the current cell or a previous cell. \n",
      "\u001b[1;31mPlease review the code in the cell(s) to identify a possible cause of the failure. \n",
      "\u001b[1;31mClick <a href='https://aka.ms/vscodeJupyterKernelCrash'>here</a> for more info. \n",
      "\u001b[1;31mView Jupyter <a href='command:jupyter.viewOutput'>log</a> for further details."
     ]
    }
   ],
   "source": [
    "# how to create a button\n",
    "from tkinter import *\n",
    "\n",
    "top = Tk()\n",
    "def myclick():\n",
    "    mylabel = Label(top, text= \"my name is victor\", fg=\"#ffffff\")#fg is for text color, bg is for background color\n",
    "    mylabel.pack()\n",
    "mybutton = Button(top, text= \"click me\", command=myclick)  #(command=) this connect your button to the function\n",
    "mybutton.pack()\n",
    "top.mainloop()\n"
   ]
  },
  {
   "cell_type": "markdown",
   "metadata": {},
   "source": []
  },
  {
   "cell_type": "code",
   "execution_count": 1,
   "metadata": {},
   "outputs": [
    {
     "name": "stdout",
     "output_type": "stream",
     "text": [
      "<bound method Entry.get of <tkinter.Entry object .!entry>>\n",
      "<bound method Entry.get of <tkinter.Entry object .!entry>>\n",
      "<bound method Entry.get of <tkinter.Entry object .!entry>>\n",
      "<bound method Entry.get of <tkinter.Entry object .!entry>>\n",
      "<bound method Entry.get of <tkinter.Entry object .!entry>>\n"
     ]
    },
    {
     "ename": "",
     "evalue": "",
     "output_type": "error",
     "traceback": [
      "\u001b[1;31mThe Kernel crashed while executing code in the current cell or a previous cell. \n",
      "\u001b[1;31mPlease review the code in the cell(s) to identify a possible cause of the failure. \n",
      "\u001b[1;31mClick <a href='https://aka.ms/vscodeJupyterKernelCrash'>here</a> for more info. \n",
      "\u001b[1;31mView Jupyter <a href='command:jupyter.viewOutput'>log</a> for further details."
     ]
    }
   ],
   "source": [
    "# how to create and input\n",
    "from tkinter import *\n",
    "\n",
    "top = Tk()\n",
    "e = Entry(top, text=\"input\")\n",
    "e.pack()\n",
    "e.insert(0, \"input you name\")\n",
    "def myclick():\n",
    "    mylabel = Label(top, text=\"my name is\" + e.get(), fg=\"#ffffff\")#fg is for text color, bg is for background color\n",
    "    mylabel.pack()\n",
    "    print(e.get)\n",
    " \n",
    "mybutton = Button(top, text= \"click me\", command=myclick)  #(command=) this connect your button to the function\n",
    "mybutton.pack()\n",
    "top.mainloop()\n",
    "# entry is used to create and input in the code\n",
    "# width is used to make the length longer\n",
    "# border width \n",
    "# e.get() this will get the text that is inputed\n",
    "# you can only use + to concatinate in tkinter\n",
    "# insert is use to put content in the input box"
   ]
  },
  {
   "cell_type": "code",
   "execution_count": 4,
   "metadata": {},
   "outputs": [],
   "source": [
    "from tkinter import *\n",
    "\n",
    "top = Tk()\n",
    "username = Label(top, text=\"enter your username\", fg=\"blue\").grid(row=0, column=0)\n",
    "name = Entry(top, text=\"name\").grid(row=0, column=1)\n",
    "passw = Label(top, text=\"password\").grid(row=1, column=0)\n",
    "entry = Entry(top, text=\"password\").grid(row=1, column=1)\n",
    "\n",
    "\n",
    "butt = Button(top, text=\"click me\").grid(row=2, column=1)             \n",
    "\n",
    "\n",
    "top.mainloop()"
   ]
  },
  {
   "cell_type": "markdown",
   "metadata": {},
   "source": [
    "the place method\n",
    "this organises the widget into an x and y co-ordinates\n",
    "\n",
    "syntax\n",
    "anchor: this represent the exact position if the widget within the contain\n",
    "        the default value is NW,which is the upper left corner\n",
    "        "
   ]
  },
  {
   "cell_type": "code",
   "execution_count": 7,
   "metadata": {},
   "outputs": [
    {
     "ename": "",
     "evalue": "",
     "output_type": "error",
     "traceback": [
      "\u001b[1;31mThe Kernel crashed while executing code in the current cell or a previous cell. \n",
      "\u001b[1;31mPlease review the code in the cell(s) to identify a possible cause of the failure. \n",
      "\u001b[1;31mClick <a href='https://aka.ms/vscodeJupyterKernelCrash'>here</a> for more info. \n",
      "\u001b[1;31mView Jupyter <a href='command:jupyter.viewOutput'>log</a> for further details."
     ]
    }
   ],
   "source": [
    "from tkinter import *\n",
    "\n",
    "top = Tk()\n",
    "top.geometry(\"400x250\")\n",
    "username = Label(top, text=\"username\").place(x=30, y=50)\n",
    "but = Entry(top).place(x=90, y=50)\n",
    "email = Label(top, text= \"email\").place(x=30, y=90)\n",
    "butt = Entry(top).place(x=90, y=90)\n",
    "password = Label(top, text= \"password\").place(x=30, y=130)\n",
    "button = Entry(top).place(x=90, y=130)\n",
    "bu = Button(top, text=\"click\").place(x=50, y=160)\n",
    "\n",
    "top.mainloop()"
   ]
  },
  {
   "cell_type": "code",
   "execution_count": null,
   "metadata": {},
   "outputs": [],
   "source": [
    "import tkinter as tk\n",
    "from tkinter import messagebox\n",
    "\n",
    "def add():\n",
    "    number1= float(num1.get())\n",
    "    number2 = float(num2.get())\n",
    "\n",
    "    if number1 == None or number2 == None:\n",
    "        messagebox.showinfo(\"Error\", \"Oops, an error occured. please validate your input\")\n",
    "    re = number1 + number2\n",
    "    result.config(text = re )\n",
    "\n",
    "\n",
    "top = tk.Tk()\n",
    "top.geometry(\"400x250\")\n",
    "label= tk.Label(top, text=\"number1\").grid(row= 0, column=0)\n",
    "num1 = tk.Entry(top).grid(row=0, column=1)\n",
    "label2 = tk.Label(top, text=\"number2\").grid(row=1, column=0)\n",
    "num2 = tk.Entry(top).grid(row=1, column=1)\n",
    "butt = tk.Button(top, text=\"add\", command=add()).grid(row=2, column=0)\n",
    "result = tk.Label(top, text=\"result:\").grid(row=3, column=0)\n",
    "resul = tk.Label(top, text=\"result:\").grid(row=3, column=1)\n",
    "\n",
    "top.mainloop()\n"
   ]
  },
  {
   "cell_type": "code",
   "execution_count": 1,
   "metadata": {},
   "outputs": [
    {
     "ename": "",
     "evalue": "",
     "output_type": "error",
     "traceback": [
      "\u001b[1;31mThe Kernel crashed while executing code in the current cell or a previous cell. \n",
      "\u001b[1;31mPlease review the code in the cell(s) to identify a possible cause of the failure. \n",
      "\u001b[1;31mClick <a href='https://aka.ms/vscodeJupyterKernelCrash'>here</a> for more info. \n",
      "\u001b[1;31mView Jupyter <a href='command:jupyter.viewOutput'>log</a> for further details."
     ]
    }
   ],
   "source": [
    "#Classwork\n",
    "import tkinter as tk\n",
    "from tkinter import messagebox\n",
    "\n",
    "def add():\n",
    "    no1 = entry1.get()\n",
    "    no2 = entry2.get()\n",
    "\n",
    "    if no1 == \"\" or no2 == \"\":\n",
    "        messagebox.showinfo(\"error\",\"please input values\")\n",
    "    else:\n",
    "        result = float(no1) + float(no2)\n",
    "        anlabel.config(text = result)\n",
    "\n",
    "\n",
    "top = tk.Tk()\n",
    "\n",
    "no1 = tk.Label(top,text = 'no 1')\n",
    "no1.grid(row = 0 , column = 0)\n",
    "entry1 = tk.Entry(top)\n",
    "entry1.grid(row = 0, column = 1)\n",
    "\n",
    "no2 = tk.Label(top, text = 'no 2')\n",
    "no2.grid(row = 1, column = 0)\n",
    "entry2 = tk.Entry(top)\n",
    "entry2.grid(row = 1, column = 1)\n",
    "\n",
    "button = tk.Button(top, text = 'add', command = add)\n",
    "button.grid(row = 2, column = 1)\n",
    "\n",
    "result = tk.Label(top,text = 'Result =')\n",
    "result.grid(row = 3, column = 0)\n",
    "\n",
    "anlabel = tk.Label(top, text = '__')\n",
    "anlabel.grid(row = 3, column = 1)\n",
    "\n",
    "top.mainloop()"
   ]
  },
  {
   "cell_type": "code",
   "execution_count": 6,
   "metadata": {},
   "outputs": [],
   "source": [
    "from tkinter import *\n",
    "\n",
    "top = Tk()\n",
    "entry = Entry(top, width=35, borderwidth=5)\n",
    "entry.grid(row=0,column=0, columnspan=3, padx=10, pady=10)  #columnspan will alow the button to aline onder the entry in 3 column\n",
    "\n",
    "def cul(number):\n",
    "    num = entry.get()\n",
    "    entry.delete(0, END)\n",
    "    entry.insert(0, str(num) + str(number))\n",
    "\n",
    "def clear():\n",
    "    entry.delete(0, END)\n",
    "\n",
    "def add():\n",
    "    num1 = entry.get()\n",
    "    global f_num\n",
    "    global math\n",
    "    math = \"addiction\"\n",
    "    f_num =  int(num1)\n",
    "    entry.delete(0, END)\n",
    "\n",
    "def equal():\n",
    "    num2 = entry.get()\n",
    "    entry.delete(0, END)\n",
    "\n",
    "    if math == \"addiction\":\n",
    "        entry.insert(0, f_num + int(num2))\n",
    "    \n",
    "    if math == \"subtraction\":\n",
    "        entry.insert(0, f_num - int(num2))\n",
    "\n",
    "def sub():\n",
    "    num1 = entry.get()\n",
    "    global f_num\n",
    "    global math\n",
    "    math = \"subtraction\"\n",
    "    f_num =  int(num1)\n",
    "    entry.delete(0, END)\n",
    "\n",
    "\n",
    "\n",
    "\n",
    "a = Button(top, text=\"1\",padx=40, pady=20, command=lambda: cul(1))\n",
    "b = Button(top, text=\"2\",padx=40, pady=20, command=lambda: cul(2))\n",
    "c = Button(top, text=\"3\",padx=40, pady=20, command=lambda: cul(3))\n",
    "d = Button(top, text=\"4\",padx=40, pady=20, command=lambda: cul(4))\n",
    "e = Button(top, text=\"5\",padx=40, pady=20, command=lambda: cul(5))\n",
    "f = Button(top, text=\"6\",padx=40, pady=20, command=lambda: cul(6))\n",
    "g = Button(top, text=\"7\",padx=40, pady=20, command=lambda: cul(7))\n",
    "h = Button(top, text=\"8\",padx=40, pady=20, command=lambda: cul(8))\n",
    "i = Button(top, text=\"9\",padx=40, pady=20, command=lambda: cul(9))\n",
    "j = Button(top, text=\"0\",padx=40, pady=20, command=lambda: cul(0))\n",
    "l = Button(top, text=\"+\",padx=40, pady=20, command= add)\n",
    "m = Button(top, text=\"-\",padx=40, pady=20, command= sub)\n",
    "n = Button(top, text=\"=\",padx=40, pady=20, command= equal)\n",
    "o = Button(top, text=\"clear\",padx=80, pady=20, command=clear)\n",
    "\n",
    "a.grid(row=3, column=0)\n",
    "b.grid(row=3, column=1)\n",
    "c.grid(row=3, column=2)\n",
    "\n",
    "d.grid(row=2, column=0)\n",
    "e.grid(row=2, column=1)\n",
    "f.grid(row=2, column=2)\n",
    "\n",
    "\n",
    "g.grid(row=1, column=0)\n",
    "h.grid(row=1, column=1)\n",
    "i.grid(row=1, column=2)\n",
    "\n",
    "j.grid(row=4, column=0)\n",
    "l.grid(row=4, column=1)\n",
    "m.grid(row=4, column=2)\n",
    "\n",
    "n.grid(row=5, column=0)\n",
    "o.grid(row=5, column=1 ,columnspan=2)\n",
    "\n",
    "\n",
    "\n",
    "\n",
    "\n",
    "top.mainloop()"
   ]
  },
  {
   "cell_type": "code",
   "execution_count": null,
   "metadata": {},
   "outputs": [],
   "source": []
  },
  {
   "cell_type": "code",
   "execution_count": null,
   "metadata": {},
   "outputs": [],
   "source": []
  }
 ],
 "metadata": {
  "kernelspec": {
   "display_name": "Python 3",
   "language": "python",
   "name": "python3"
  },
  "language_info": {
   "codemirror_mode": {
    "name": "ipython",
    "version": 3
   },
   "file_extension": ".py",
   "mimetype": "text/x-python",
   "name": "python",
   "nbconvert_exporter": "python",
   "pygments_lexer": "ipython3",
   "version": "3.9.6"
  }
 },
 "nbformat": 4,
 "nbformat_minor": 2
}
