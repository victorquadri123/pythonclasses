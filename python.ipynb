{
 "cells": [
  {
   "cell_type": "code",
   "execution_count": 6,
   "metadata": {},
   "outputs": [],
   "source": [
    "from tkinter import *\n",
    "top = Tk()\n",
    "mylabel = Label(top, text = \"hello world\")\n",
    "mylabel.grid(row=0, column=1)\n",
    "mylabel.pack()\n",
    "top.mainloop()"
   ]
  },
  {
   "cell_type": "code",
   "execution_count": null,
   "metadata": {},
   "outputs": [],
   "source": [
    "from tkinter import *\n",
    "top = Tk()\n",
    "mylabel = Label(top, text = \"hello world\").grid(row=0, column=1) \n",
    "top.mainloop()"
   ]
  },
  {
   "cell_type": "code",
   "execution_count": 1,
   "metadata": {},
   "outputs": [
    {
     "ename": "",
     "evalue": "",
     "output_type": "error",
     "traceback": [
      "\u001b[1;31mThe Kernel crashed while executing code in the current cell or a previous cell. \n",
      "\u001b[1;31mPlease review the code in the cell(s) to identify a possible cause of the failure. \n",
      "\u001b[1;31mClick <a href='https://aka.ms/vscodeJupyterKernelCrash'>here</a> for more info. \n",
      "\u001b[1;31mView Jupyter <a href='command:jupyter.viewOutput'>log</a> for further details."
     ]
    }
   ],
   "source": [
    "# how to create a button\n",
    "from tkinter import *\n",
    "\n",
    "top = Tk()\n",
    "\n",
    "mybutton = Button(top, text= \"click me\",pady= 100)  #(state= disabled ) this is to disable a button\n",
    "mybutton.pack()\n",
    "top.mainloop()\n",
    "# padx and pady is used to make the button wide and longer"
   ]
  },
  {
   "cell_type": "code",
   "execution_count": 9,
   "metadata": {},
   "outputs": [
    {
     "ename": "",
     "evalue": "",
     "output_type": "error",
     "traceback": [
      "\u001b[1;31mThe Kernel crashed while executing code in the current cell or a previous cell. \n",
      "\u001b[1;31mPlease review the code in the cell(s) to identify a possible cause of the failure. \n",
      "\u001b[1;31mClick <a href='https://aka.ms/vscodeJupyterKernelCrash'>here</a> for more info. \n",
      "\u001b[1;31mView Jupyter <a href='command:jupyter.viewOutput'>log</a> for further details."
     ]
    }
   ],
   "source": [
    "# how to create a button\n",
    "from tkinter import *\n",
    "\n",
    "top = Tk()\n",
    "def myclick():\n",
    "    mylabel = Label(top, text= \"my name is victor\", fg=\"#ffffff\")#fg is for text color, bg is for background color\n",
    "    mylabel.pack()\n",
    "mybutton = Button(top, text= \"click me\", command=myclick)  #(command=) this connect your button to the function\n",
    "mybutton.pack()\n",
    "top.mainloop()\n"
   ]
  },
  {
   "cell_type": "markdown",
   "metadata": {},
   "source": []
  },
  {
   "cell_type": "code",
   "execution_count": 9,
   "metadata": {},
   "outputs": [
    {
     "name": "stdout",
     "output_type": "stream",
     "text": [
      ".!label\n"
     ]
    },
    {
     "ename": "",
     "evalue": "",
     "output_type": "error",
     "traceback": [
      "\u001b[1;31mThe Kernel crashed while executing code in the current cell or a previous cell. \n",
      "\u001b[1;31mPlease review the code in the cell(s) to identify a possible cause of the failure. \n",
      "\u001b[1;31mClick <a href='https://aka.ms/vscodeJupyterKernelCrash'>here</a> for more info. \n",
      "\u001b[1;31mView Jupyter <a href='command:jupyter.viewOutput'>log</a> for further details."
     ]
    }
   ],
   "source": [
    "# how to create and input\n",
    "from tkinter import *\n",
    "\n",
    "top = Tk()\n",
    "e = Entry(top, text=\"input\")\n",
    "e.pack()\n",
    "e.insert(0, \"input you name\")\n",
    "def myclick():\n",
    "    mylabel = Label(top, text=\"my name is\" + e.get(), fg=\"#ffffff\")#fg is for text color, bg is for background color\n",
    "    mylabel.pack()\n",
    "    print(e.get)\n",
    " \n",
    "mybutton = Button(top, text= \"click me\", command=myclick)  #(command=) this connect your button to the function\n",
    "mybutton.pack()\n",
    "top.mainloop()\n",
    "# entry is used to create and input in the code\n",
    "# width is used to make the length longer\n",
    "# border width \n",
    "# e.get() this will get the text that is inputed\n",
    "# you can only use + to concatinate in tkinter\n",
    "# insert is use to put content in the input box"
   ]
  },
  {
   "cell_type": "code",
   "execution_count": null,
   "metadata": {},
   "outputs": [],
   "source": []
  }
 ],
 "metadata": {
  "kernelspec": {
   "display_name": "Python 3",
   "language": "python",
   "name": "python3"
  },
  "language_info": {
   "codemirror_mode": {
    "name": "ipython",
    "version": 3
   },
   "file_extension": ".py",
   "mimetype": "text/x-python",
   "name": "python",
   "nbconvert_exporter": "python",
   "pygments_lexer": "ipython3",
   "version": "3.9.6"
  }
 },
 "nbformat": 4,
 "nbformat_minor": 2
}
