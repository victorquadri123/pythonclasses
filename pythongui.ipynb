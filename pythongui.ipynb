{
 "cells": [
  {
   "cell_type": "code",
   "execution_count": null,
   "metadata": {},
   "outputs": [],
   "source": []
  },
  {
   "cell_type": "markdown",
   "metadata": {},
   "source": [
    "step of creating python GUI\n",
    "import the tkinter tale \n",
    "create the main application window\n",
    "add the widget, such as input,label etc\n",
    "call the main event loop"
   ]
  },
  {
   "cell_type": "code",
   "execution_count": 1,
   "metadata": {},
   "outputs": [
    {
     "ename": "",
     "evalue": "",
     "output_type": "error",
     "traceback": [
      "\u001b[1;31mThe Kernel crashed while executing code in the current cell or a previous cell. \n",
      "\u001b[1;31mPlease review the code in the cell(s) to identify a possible cause of the failure. \n",
      "\u001b[1;31mClick <a href='https://aka.ms/vscodeJupyterKernelCrash'>here</a> for more info. \n",
      "\u001b[1;31mView Jupyter <a href='command:jupyter.viewOutput'>log</a> for further details."
     ]
    }
   ],
   "source": [
    "from tkinter import *\n",
    "top = Tk()\n",
    "mylabel = Label(top, text = \"hello world\")\n",
    "mylabel.pack()\n",
    "top.mainloop()\n"
   ]
  },
  {
   "cell_type": "markdown",
   "metadata": {},
   "source": [
    "widget\n",
    "the widget is used to add various types of button the application\n",
    "\n",
    "canvers\n",
    "this is used to draw the conves on the widget\n",
    "\n",
    "checkbutton\n",
    "it is used to inport check button\n",
    "\n",
    "label \n",
    "is a text that is used to display some message or information\n",
    "\n",
    "frame\n",
    "this is a contain that can add more widget or contain to the application\n",
    "\n",
    "listbox\n",
    "this\n",
    "\n",
    "menubutton\n",
    "this is used to display menu item to the user\n",
    "\n",
    "menu \n",
    "this is used to add item the menu\n",
    "\n",
    "radio\n",
    "\n",
    "scale\n",
    "this is provides horizontal slider to user\n",
    "\n",
    "scroll bar\n",
    "\n",
    "text\n",
    "this provide a multiline text field to the user\n",
    "\n",
    "toplevel\n",
    "this create a seperate window container\n",
    "\n",
    "spinbox\n",
    "this is an entry widget, used to select from options of values\n",
    "\n",
    "panewindow\n",
    "this a container widget that contains horizontal or vertical panes\n",
    "\n",
    "pane"
   ]
  },
  {
   "cell_type": "code",
   "execution_count": null,
   "metadata": {},
   "outputs": [],
   "source": []
  },
  {
   "cell_type": "markdown",
   "metadata": {},
   "source": [
    "python tkinter\n",
    "the the geometry specifies the method, by using any of the widget respresented on display\n",
    "the py tkinter provides the following geometry\n",
    "\n",
    "pack(): this widget is used to organise widgets in the block. the position widgets added to the application using the pack() can be controlled by using the various options specified in the method call\n",
    "sytax: widget.pack(options)"
   ]
  },
  {
   "cell_type": "code",
   "execution_count": 1,
   "metadata": {},
   "outputs": [
    {
     "ename": "",
     "evalue": "",
     "output_type": "error",
     "traceback": [
      "\u001b[1;31mThe Kernel crashed while executing code in the current cell or a previous cell. \n",
      "\u001b[1;31mPlease review the code in the cell(s) to identify a possible cause of the failure. \n",
      "\u001b[1;31mClick <a href='https://aka.ms/vscodeJupyterKernelCrash'>here</a> for more info. \n",
      "\u001b[1;31mView Jupyter <a href='command:jupyter.viewOutput'>log</a> for further details."
     ]
    }
   ],
   "source": [
    "from tkinter import *\n",
    "top = Tk()\n",
    "red_button = Button(top, text =\"red\", fg = \"red\")\n",
    "blue_button = Button(top, text =\"blue\", fg = \"blue\")\n",
    "green_button = Button(top, text =\"green\", fg =\"green\")\n",
    "yellow_button = Button(top, text =\"yellow\", fg= \"yellow\")\n",
    "red_button.pack(side = LEFT)\n",
    "blue_button.pack(side= RIGHT)\n",
    "green_button.pack(side= TOP)\n",
    "yellow_button.pack(side= BOTTOM)\n",
    "top.mainloop()\n",
    "\n"
   ]
  },
  {
   "cell_type": "code",
   "execution_count": null,
   "metadata": {},
   "outputs": [],
   "source": []
  }
 ],
 "metadata": {
  "kernelspec": {
   "display_name": "Python 3",
   "language": "python",
   "name": "python3"
  },
  "language_info": {
   "codemirror_mode": {
    "name": "ipython",
    "version": 3
   },
   "file_extension": ".py",
   "mimetype": "text/x-python",
   "name": "python",
   "nbconvert_exporter": "python",
   "pygments_lexer": "ipython3",
   "version": "3.9.6"
  }
 },
 "nbformat": 4,
 "nbformat_minor": 2
}
