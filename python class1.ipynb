{
 "cells": [
  {
   "cell_type": "raw",
   "id": "903feb04",
   "metadata": {},
   "source": [
    "Identifiers\n",
    "user defined names and in-built names used in python\n",
    "\n",
    "name,  age, print(unique to compiler)\n",
    "\n",
    "identifiers: variable name (name, age, sex), constant name and \n",
    "    keyword name(e.g print, if, else, for, while, class, def)"
   ]
  },
  {
   "cell_type": "code",
   "execution_count": null,
   "id": "ea5311d7",
   "metadata": {},
   "outputs": [],
   "source": []
  },
  {
   "cell_type": "markdown",
   "id": "5ca54eeb",
   "metadata": {},
   "source": [
    "## Python Indentation\n",
    "Indentation refers to the spaces at the beginning of a code line.\n",
    "\n",
    "Where in other programming languages the indentation in code is for readability only, the indentation in Python is very important.\n",
    "\n",
    "    Python uses indentation to indicate a block of code. Python Indentation\n",
    "    Indentation refers to the spaces at the beginning of a code line."
   ]
  },
  {
   "cell_type": "code",
   "execution_count": null,
   "id": "3d4ffd2d",
   "metadata": {},
   "outputs": [],
   "source": []
  },
  {
   "cell_type": "markdown",
   "id": "4d339402",
   "metadata": {},
   "source": []
  },
  {
   "cell_type": "markdown",
   "id": "516881ef",
   "metadata": {},
   "source": [
    "# Comments\n",
    "Python has commenting capability for the purpose of in-code documentation.\n",
    "\n",
    "Comments can be used to explain Python code.\n",
    "\n",
    "Comments can be used to make the code more readable.\n",
    "\n",
    "Comments can be used to prevent execution when testing code.\n",
    "\n",
    "Comments start with a \"#\", and Python will render the rest of the line as a comment:\n",
    "multiline comments and doctypes are preceded by triple quotes and ended by tripe quotes."
   ]
  },
  {
   "cell_type": "code",
   "execution_count": 1,
   "id": "d0f9b387",
   "metadata": {},
   "outputs": [
    {
     "name": "stdout",
     "output_type": "stream",
     "text": [
      "Hello, World!\n",
      "kolawole\n"
     ]
    },
    {
     "data": {
      "text/plain": [
       "'\\nthis is a multiline comments\\nsecond line\\n\\n'"
      ]
     },
     "execution_count": 1,
     "metadata": {},
     "output_type": "execute_result"
    }
   ],
   "source": [
    "#This is a comment.\n",
    "print(\"Hello, World!\")\n",
    "\n",
    "print(\"kolawole\") #this  code is to  print  kolawole\n",
    "\n",
    "\"\"\"\n",
    "this is a multiline comments\n",
    "second line\n",
    "\n",
    "\"\"\""
   ]
  },
  {
   "cell_type": "markdown",
   "id": "de49c01a",
   "metadata": {},
   "source": [
    "# Python Variables\n",
    "Variables are containers for storing data values\n",
    "\n",
    "In Python, variables are created when you assign a value to it.\n",
    "\n",
    "### Variable Names\n",
    "A variable can have a short name (like x and y) or a more descriptive name (age, carname, total_volume). \n",
    "Rules for Python variables:\n",
    "\n",
    "    1.A variable name must start with a letter or the underscore character\n",
    "\n",
    "    2.A variable name cannot start with a number\n",
    "\n",
    "    3.A variable name can only contain alpha-numeric characters and underscores (A-z, 0-9, and _ )\n",
    "\n",
    "    4.Variable names are case-sensitive (age, Age and AGE are three different variables) "
   ]
  },
  {
   "cell_type": "code",
   "execution_count": 2,
   "id": "16264f11",
   "metadata": {},
   "outputs": [
    {
     "name": "stdout",
     "output_type": "stream",
     "text": [
      "36\n"
     ]
    }
   ],
   "source": [
    "age = 36\n",
    "print(age)"
   ]
  },
  {
   "cell_type": "markdown",
   "id": "c265e07c",
   "metadata": {},
   "source": [
    "## Legal variable names:\n",
    "myvar = \"John\",\n",
    "\n",
    "my_var = \"John\",\n",
    "\n",
    "_my_var = \"John\",\n",
    "\n",
    "myVar = \"John\",\n",
    "\n",
    "MYVAR = \"John\",\n",
    "\n",
    "myvar2 = \"John\"\n",
    "\n",
    "## Illegal variable names:\n",
    "\n",
    "2myvar = \"John\"\n",
    "\n",
    "my-var = \"John\"\n",
    "\n",
    "my var = \"John\""
   ]
  },
  {
   "cell_type": "code",
   "execution_count": null,
   "id": "74cb1e94",
   "metadata": {},
   "outputs": [],
   "source": []
  },
  {
   "cell_type": "markdown",
   "id": "81f834e2",
   "metadata": {},
   "source": [
    "## Multi Words Variable Names\n",
    "Variable names with more than one word can be difficult to read.\n",
    "\n",
    "There are several techniques you can use to make them more readable:\n",
    "\n",
    "## Camel Case\n",
    "Each word, except the first, starts with a capital letter:"
   ]
  },
  {
   "cell_type": "code",
   "execution_count": null,
   "id": "a4856e1c",
   "metadata": {},
   "outputs": [],
   "source": [
    "myVariableName = \"John\"\n",
    "\n",
    "nameOfSchool = \"\"\n",
    "NameOfSchool = \"\"\n",
    "name_of_school = \"\""
   ]
  },
  {
   "cell_type": "markdown",
   "id": "ff5b4fb5",
   "metadata": {},
   "source": [
    "## Pascal Case\n",
    "Each word starts with a capital letter:"
   ]
  },
  {
   "cell_type": "code",
   "execution_count": 1,
   "id": "8ba12b3f",
   "metadata": {},
   "outputs": [],
   "source": [
    "MyVariableName = \"John \""
   ]
  },
  {
   "cell_type": "markdown",
   "id": "dfa41e80",
   "metadata": {},
   "source": [
    "## Snake Case\n",
    "Each word is separated by an underscore character:"
   ]
  },
  {
   "cell_type": "code",
   "execution_count": null,
   "id": "1a58072f",
   "metadata": {},
   "outputs": [],
   "source": [
    "my_variable_name = \"John\""
   ]
  },
  {
   "cell_type": "code",
   "execution_count": 6,
   "id": "9f89dd9e",
   "metadata": {},
   "outputs": [],
   "source": [
    "\n",
    "#name1 = \"jOHN\"\n",
    "#name2 = \"Chery\"\n",
    "#name3 = \"Lenox\""
   ]
  },
  {
   "cell_type": "markdown",
   "id": "e0ce0040",
   "metadata": {},
   "source": [
    "## Many Values to Multiple Variables\n",
    "Python allows you to assign values to multiple variables in one line:"
   ]
  },
  {
   "cell_type": "code",
   "execution_count": 7,
   "id": "4aa5719a",
   "metadata": {},
   "outputs": [
    {
     "name": "stdout",
     "output_type": "stream",
     "text": [
      "lenox\n",
      "Orange\n"
     ]
    }
   ],
   "source": [
    "name1, name2, name3 = \"John\", \"cherry\", \"lenox\"\n",
    "print(name3)\n",
    "\n",
    "x, y, z = \"Orange\", \"Banana\", \"cherry\"\n",
    "print(x)\n"
   ]
  },
  {
   "cell_type": "markdown",
   "id": "b052c32f",
   "metadata": {},
   "source": [
    "## One Value to Multiple Variables\n",
    "And you can assign the same value to multiple variables in one line:"
   ]
  },
  {
   "cell_type": "code",
   "execution_count": 5,
   "id": "d6652d64",
   "metadata": {},
   "outputs": [
    {
     "name": "stdout",
     "output_type": "stream",
     "text": [
      "Orange\n",
      "Orange\n",
      "Orange\n",
      "['orange', 'banana', 'apple']\n"
     ]
    }
   ],
   "source": [
    "x = y = z = \"Orange\"\n",
    "print(x)\n",
    "print(y)\n",
    "print(z)\n"
   ]
  },
  {
   "cell_type": "markdown",
   "id": "2a93d501",
   "metadata": {},
   "source": [
    "## Unpack a Collection\n",
    "If you have a collection of values in a list, tuple etc. \n",
    "\n",
    "Python allows you to extract the values into variables. This is called unpacking."
   ]
  },
  {
   "cell_type": "code",
   "execution_count": 6,
   "id": "d31af61a",
   "metadata": {},
   "outputs": [
    {
     "name": "stdout",
     "output_type": "stream",
     "text": [
      "banana\n"
     ]
    }
   ],
   "source": [
    "#Unpack a list:\n",
    "# assigning 3 different values to one variable\n",
    "fruits = [\"apple\", \"banana\", \"cherry\"]\n",
    "x, y, z = fruits\n",
    "print(y)"
   ]
  },
  {
   "cell_type": "markdown",
   "id": "eb9f8a13",
   "metadata": {},
   "source": [
    "## Output Variables\n",
    "The Python print statement is often used to output variables.\n",
    "\n",
    "To combine both text and a variable, Python uses the + character:"
   ]
  },
  {
   "cell_type": "code",
   "execution_count": 9,
   "id": "45dedf35",
   "metadata": {},
   "outputs": [
    {
     "name": "stdout",
     "output_type": "stream",
     "text": [
      "Python is simple and english-like\n"
     ]
    }
   ],
   "source": [
    "x = \"simple\"\n",
    "y = \"english-like\"\n",
    "\n",
    "#python is simple and english-like\n",
    "\n",
    "print(\"Python is \" + x + \" and \" + y)"
   ]
  },
  {
   "cell_type": "code",
   "execution_count": null,
   "id": "c8ab69b2",
   "metadata": {},
   "outputs": [],
   "source": [
    "myName = \"Victor\"\n",
    "complexion = \"dark\"\n",
    "height = 5.8\n",
    "sex = \"male\"\n",
    "\n",
    "#My name is Victor, and I am dark in complexion, my height is 5.8 and I am a male \n",
    "\n",
    "#My name is Victor, and I am dark in complextion\n"
   ]
  },
  {
   "cell_type": "markdown",
   "id": "03d5fe1d",
   "metadata": {},
   "source": [
    "You can also use the + character to add a variable to another variable:"
   ]
  },
  {
   "cell_type": "code",
   "execution_count": 17,
   "id": "7d5ca4fe",
   "metadata": {},
   "outputs": [
    {
     "name": "stdout",
     "output_type": "stream",
     "text": [
      "Python is awesome\n"
     ]
    }
   ],
   "source": [
    "x = \"Python is \"\n",
    "y = \"awesome\"\n",
    "z =  x + y\n",
    "print(z)\n",
    "\n",
    "\n",
    "no_of_chairs = \n",
    "no_of_tables\n",
    "no_of_pc\n",
    "name_of_institution\n",
    "\n",
    "#This is egalitarian, there are 22 chairs, 40 tables, and 10 pcs for all students."
   ]
  },
  {
   "cell_type": "markdown",
   "id": "9ed21b95",
   "metadata": {},
   "source": [
    "## Global Variables\n",
    "Variables that are created outside of a function (as in all of the examples above) are known as global variables.\n",
    "\n",
    "Global variables can be used by everyone, both inside of functions and outside."
   ]
  },
  {
   "cell_type": "code",
   "execution_count": null,
   "id": "0e9ee39f",
   "metadata": {},
   "outputs": [],
   "source": []
  },
  {
   "cell_type": "markdown",
   "id": "e1966267",
   "metadata": {},
   "source": [
    "in lagos (local)\n",
    "price_of_apple = 50 naira\n",
    "\n",
    "in Nigeria, Abuja\n",
    "price_of_apple = 100 naira\n",
    "\n",
    "in Nigeria (global)\n",
    "price_of_apple = 20naira"
   ]
  },
  {
   "cell_type": "markdown",
   "id": "8d1779cf",
   "metadata": {},
   "source": [
    "## The global Keyword\n",
    "Normally, when you create a variable inside a function, that variable is local, and can only be used inside that function.\n",
    "\n",
    "To create a global variable inside a function, you can use the global keyword."
   ]
  },
  {
   "cell_type": "code",
   "execution_count": 4,
   "id": "7ccd3f5e",
   "metadata": {},
   "outputs": [],
   "source": [
    "global x\n",
    "x = 2"
   ]
  },
  {
   "cell_type": "markdown",
   "id": "e580e852",
   "metadata": {},
   "source": [
    "# Python Data Types\n",
    "\n",
    "### Built-in Data Types\n",
    "In programming, data type is an important concept.\n",
    "\n",
    "Variables can store data of different types, and different types can do different things.\n",
    "\n",
    "Python has the following data types built-in by default, in these categories:\n",
    "\n",
    "Text Type:\tstr\n",
    "\n",
    "Numeric Types:\tint, float, complex\n",
    "\n",
    "Sequence Types:\tlist, tuple, range\n",
    "\n",
    "Mapping Type:\tdict\n",
    "\n",
    "Set Types:\tset, frozenset\n",
    "\n",
    "Boolean Type:\tbool\n",
    "\n",
    "Binary Types:\tbytes, bytearray, memoryview"
   ]
  },
  {
   "cell_type": "raw",
   "id": "56617690",
   "metadata": {},
   "source": [
    "\n",
    "x = \"Hello World\"->\tstr\t\n",
    "x = 20\t-> int\t\n",
    "x = 20.5 -> float\t\n",
    "x = 1j\t-> complex\t\n",
    "x = [\"apple\", \"banana\", \"cherry\"]\t-> list\t\n",
    "x = (\"apple\", \"banana\", \"cherry\")\t-> tuple\t\n",
    "x = range(6)\t-> range\t\n",
    "x = {\"name\" : \"John\", \"age\" : 36}\t-> dict\t\n",
    "x = {\"apple\", \"banana\", \"cherry\"}\t-> set\t\n",
    "x = frozenset({\"apple\", \"banana\", \"cherry\"})  -> frozenset\t\n",
    "x = True -> bool\t\n",
    "x = b\"Hello\"\t-> bytes\t\n",
    "x = bytearray(5)\t-> bytearray\t\n",
    "x = memoryview(bytes(5))\t-> memoryview\t\n"
   ]
  },
  {
   "cell_type": "markdown",
   "id": "ee263248",
   "metadata": {},
   "source": [
    "## Python Casting\n",
    "Specify a Variable Type\n",
    "There may be times when you want to specify a type on to a variable. This can be done with casting. Python is an object-orientated language, and as such it uses classes to define data types, including its primitive types.\n",
    "\n",
    "Casting in python is therefore done using constructor functions:\n",
    "\n",
    "int() - constructs an integer number from an integer literal, a float literal (by removing all decimals), or a string literal (providing the string represents a whole number)\n",
    "\n",
    "float() - constructs a float number from an integer literal, a float literal or a string literal (providing the string represents a float or an integer)\n",
    "\n",
    "str() - constructs a string from a wide variety of data types, including strings, integer literals and float literals"
   ]
  },
  {
   "cell_type": "code",
   "execution_count": 4,
   "id": "e9ae7713",
   "metadata": {},
   "outputs": [
    {
     "data": {
      "text/plain": [
       "'1'"
      ]
     },
     "execution_count": 4,
     "metadata": {},
     "output_type": "execute_result"
    }
   ],
   "source": [
    "#Integers:\n",
    "\n",
    "x = int(1)   # x will be 1\n",
    "y = int(2.8) # y will be 2\n",
    "z = int(\"3\") # z will be 3\n",
    "\n",
    "\n",
    "num = 1\n",
    "str(num)\n"
   ]
  },
  {
   "cell_type": "code",
   "execution_count": 17,
   "id": "cb38a2ac",
   "metadata": {},
   "outputs": [
    {
     "data": {
      "text/plain": [
       "89.98"
      ]
     },
     "execution_count": 17,
     "metadata": {},
     "output_type": "execute_result"
    }
   ],
   "source": [
    "item = \"89.98\" #sting\n",
    "float(item) #convert to integer and save into int_item\n"
   ]
  },
  {
   "cell_type": "code",
   "execution_count": null,
   "id": "0c0847b5",
   "metadata": {},
   "outputs": [],
   "source": [
    "#Floats:\n",
    "\n",
    "x = float(1)     # x will be 1.0\n",
    "y = float(2.8)   # y will be 2.8\n",
    "z = float(\"3\")   # z will be 3.0\n",
    "w = float(\"4.2\") # w will be 4.2"
   ]
  },
  {
   "cell_type": "code",
   "execution_count": null,
   "id": "52450bc8",
   "metadata": {},
   "outputs": [],
   "source": [
    "#Strings:\n",
    "\n",
    "x = str(\"s1\") # x will be 's1'\n",
    "y = str(2)    # y will be '2'\n",
    "z = str(3.0)  # z will be '3.0'"
   ]
  },
  {
   "cell_type": "code",
   "execution_count": 7,
   "id": "d3c20f70",
   "metadata": {},
   "outputs": [],
   "source": [
    "number = 2.9 # convert to integer and string\n",
    "text = \"2.8\" #convert it to integer and float\n",
    "\n",
    "float_text = float(text)\n",
    "float_text "
   ]
  },
  {
   "cell_type": "code",
   "execution_count": 8,
   "id": "a717bbdf",
   "metadata": {},
   "outputs": [
    {
     "data": {
      "text/plain": [
       "2"
      ]
     },
     "execution_count": 8,
     "metadata": {},
     "output_type": "execute_result"
    }
   ],
   "source": [
    "int(float_text)"
   ]
  },
  {
   "cell_type": "code",
   "execution_count": null,
   "id": "84b4ae2d",
   "metadata": {},
   "outputs": [],
   "source": []
  }
 ],
 "metadata": {
  "kernelspec": {
   "display_name": "Python 3 (ipykernel)",
   "language": "python",
   "name": "python3"
  },
  "language_info": {
   "codemirror_mode": {
    "name": "ipython",
    "version": 3
   },
   "file_extension": ".py",
   "mimetype": "text/x-python",
   "name": "python",
   "nbconvert_exporter": "python",
   "pygments_lexer": "ipython3",
   "version": "3.9.7"
  }
 },
 "nbformat": 4,
 "nbformat_minor": 5
}
