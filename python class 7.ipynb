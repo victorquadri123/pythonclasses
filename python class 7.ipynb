{
 "cells": [
  {
   "cell_type": "code",
   "execution_count": null,
   "id": "8759d143",
   "metadata": {},
   "outputs": [],
   "source": []
  },
  {
   "cell_type": "markdown",
   "id": "0bbfd815",
   "metadata": {},
   "source": [
    "## Polymorphism"
   ]
  },
  {
   "cell_type": "markdown",
   "id": "ec94f766",
   "metadata": {},
   "source": [
    "The word polymorphism means having many forms. In programming, polymorphism means the same function name (but different signatures) being used for different types. The key difference is the data types and number of arguments used in function."
   ]
  },
  {
   "cell_type": "code",
   "execution_count": 1,
   "id": "c564eec0",
   "metadata": {},
   "outputs": [
    {
     "name": "stdout",
     "output_type": "stream",
     "text": [
      "5\n",
      "3\n"
     ]
    }
   ],
   "source": [
    "# Python program to demonstrate in-built poly-\n",
    "# morphic functions\n",
    "\n",
    "# len() being used for a string\n",
    "print(len(\"geeks\"))\n",
    "\n",
    "# len() being used for a list\n",
    "print(len([10, 20, 30]))"
   ]
  },
  {
   "cell_type": "code",
   "execution_count": 2,
   "id": "ae201493",
   "metadata": {},
   "outputs": [
    {
     "name": "stdout",
     "output_type": "stream",
     "text": [
      "5\n",
      "9\n"
     ]
    }
   ],
   "source": [
    "# A simple Python function to demonstrate \n",
    "# Polymorphism\n",
    "\n",
    "def add(x, y, z = 0):\n",
    "    return x + y + z\n",
    "\n",
    "# Driver code \n",
    "print(add(2, 3))\n",
    "print(add(2, 3, 4))"
   ]
  },
  {
   "cell_type": "markdown",
   "id": "8f8ae0f2",
   "metadata": {},
   "source": [
    "### Polymorphism with class methods\n",
    "\n",
    "The below code shows how Python can use two different class types, in the same way. We create a for loop that iterates through a tuple of objects. Then call the methods without being concerned about which class type each object is. We assume that these methods actually exist in each class. "
   ]
  },
  {
   "cell_type": "code",
   "execution_count": 3,
   "id": "ce0a0444",
   "metadata": {},
   "outputs": [],
   "source": [
    "class India():\n",
    "    def capital(self):\n",
    "        print(\"New Delhi is the capital of India.\")\n",
    "\n",
    "    def language(self):\n",
    "        print(\"Hindi is the most widely spoken language of India.\")\n",
    "\n",
    "    def developed(self):\n",
    "        print(\"India is a developing country.\")\n",
    "\n",
    "class USA():\n",
    "    def capital(self):\n",
    "        print(\"Washington, D.C. is the capital of USA.\")\n",
    "\n",
    "    def language(self):\n",
    "        print(\"English is the primary language of USA.\")\n",
    "\n",
    "    def developed(self):\n",
    "        print(\"USA is a developed country.\")\n",
    "\n"
   ]
  },
  {
   "cell_type": "code",
   "execution_count": 5,
   "id": "2fbfddc4",
   "metadata": {},
   "outputs": [
    {
     "name": "stdout",
     "output_type": "stream",
     "text": [
      "New Delhi is the capital of India.\n",
      "Hindi is the most widely spoken language of India.\n",
      "India is a developing country.\n",
      "Washington, D.C. is the capital of USA.\n",
      "English is the primary language of USA.\n",
      "USA is a developed country.\n"
     ]
    }
   ],
   "source": [
    "obj_ind = India()\n",
    "obj_usa = USA()\n",
    "for country in (obj_ind, obj_usa):\n",
    "    country.capital()\n",
    "    country.language()\n",
    "    country.developed()"
   ]
  },
  {
   "cell_type": "markdown",
   "id": "ebb80394",
   "metadata": {},
   "source": [
    "### Implementing Polymorphism with a Function "
   ]
  },
  {
   "cell_type": "code",
   "execution_count": 12,
   "id": "0bb3f116",
   "metadata": {},
   "outputs": [
    {
     "name": "stdout",
     "output_type": "stream",
     "text": [
      "New Delhi is the capital of India.\n",
      "Hindi is the most widely spoken language of India.\n",
      "India is a developing country.\n",
      "Washington, D.C. is the capital of USA.\n",
      "English is the primary language of USA.\n",
      "USA is a developed country.\n"
     ]
    }
   ],
   "source": [
    "def func(obj):\n",
    "    obj.capital()\n",
    "    obj.language()\n",
    "    obj.developed()\n",
    "\n",
    "obj_ind = India() \n",
    "obj_usa = USA()\n",
    "\n",
    "func(obj_ind)\n",
    "func(obj_usa)\n",
    "    \n",
    "# use the function func to implement the class objects"
   ]
  },
  {
   "cell_type": "markdown",
   "id": "cc177086",
   "metadata": {},
   "source": [
    "### polymorphism in Python using inheritance and method overriding"
   ]
  },
  {
   "cell_type": "code",
   "execution_count": 13,
   "id": "4a5498b5",
   "metadata": {},
   "outputs": [
    {
     "name": "stdout",
     "output_type": "stream",
     "text": [
      "all animals speak in different ways...\n",
      "Meow!\n"
     ]
    }
   ],
   "source": [
    "class Animal:\n",
    "    def speak(self):\n",
    "        return(\"all animals speak in different ways...\")\n",
    "\n",
    "class Dog(Animal):\n",
    "  pass\n",
    "\n",
    "class Cat(Animal):\n",
    "    def speak(self):\n",
    "        return \"Meow!\"\n",
    "\n",
    "# Create a list of Animal objects\n",
    "animals = [Dog(), Cat()]\n",
    "\n",
    "# Call the speak method on each object\n",
    "for animal in animals:\n",
    "    print(animal.speak())"
   ]
  },
  {
   "cell_type": "code",
   "execution_count": null,
   "id": "621898a6",
   "metadata": {},
   "outputs": [],
   "source": [
    "#read on ecasulation"
   ]
  }
 ],
 "metadata": {
  "kernelspec": {
   "display_name": "Python 3 (ipykernel)",
   "language": "python",
   "name": "python3"
  },
  "language_info": {
   "codemirror_mode": {
    "name": "ipython",
    "version": 3
   },
   "file_extension": ".py",
   "mimetype": "text/x-python",
   "name": "python",
   "nbconvert_exporter": "python",
   "pygments_lexer": "ipython3",
   "version": "3.9.6"
  }
 },
 "nbformat": 4,
 "nbformat_minor": 5
}
