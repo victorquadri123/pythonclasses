{
 "cells": [
  {
   "cell_type": "code",
   "execution_count": 9,
   "id": "948ee12b",
   "metadata": {},
   "outputs": [
    {
     "data": {
      "text/plain": [
       "28"
      ]
     },
     "execution_count": 9,
     "metadata": {},
     "output_type": "execute_result"
    }
   ],
   "source": [
    "import random\n",
    "rand_no = random.randint(0, 200)\n",
    "rand_no"
   ]
  },
  {
   "cell_type": "code",
   "execution_count": 1,
   "id": "a4b2ede5",
   "metadata": {},
   "outputs": [
    {
     "name": "stdout",
     "output_type": "stream",
     "text": [
      "2 multiple\n",
      "2 x 1 = 2\n",
      "2 x 2 = 4\n",
      "2 x 3 = 6\n",
      "2 x 4 = 8\n",
      "2 x 5 = 10\n",
      "2 x 6 = 12\n",
      "2 x 7 = 14\n",
      "2 x 8 = 16\n",
      "2 x 9 = 18\n",
      "2 x 10 = 20\n",
      "2 x 11 = 22\n",
      "2 x 12 = 24\n",
      "===============\n",
      "3 multiple\n",
      "3 x 1 = 3\n",
      "3 x 2 = 6\n",
      "3 x 3 = 9\n",
      "3 x 4 = 12\n",
      "3 x 5 = 15\n",
      "3 x 6 = 18\n",
      "3 x 7 = 21\n",
      "3 x 8 = 24\n",
      "3 x 9 = 27\n",
      "3 x 10 = 30\n",
      "3 x 11 = 33\n",
      "3 x 12 = 36\n",
      "===============\n",
      "4 multiple\n",
      "4 x 1 = 4\n",
      "4 x 2 = 8\n",
      "4 x 3 = 12\n",
      "4 x 4 = 16\n",
      "4 x 5 = 20\n",
      "4 x 6 = 24\n",
      "4 x 7 = 28\n",
      "4 x 8 = 32\n",
      "4 x 9 = 36\n",
      "4 x 10 = 40\n",
      "4 x 11 = 44\n",
      "4 x 12 = 48\n",
      "===============\n",
      "5 multiple\n",
      "5 x 1 = 5\n",
      "5 x 2 = 10\n",
      "5 x 3 = 15\n",
      "5 x 4 = 20\n",
      "5 x 5 = 25\n",
      "5 x 6 = 30\n",
      "5 x 7 = 35\n",
      "5 x 8 = 40\n",
      "5 x 9 = 45\n",
      "5 x 10 = 50\n",
      "5 x 11 = 55\n",
      "5 x 12 = 60\n",
      "===============\n",
      "6 multiple\n",
      "6 x 1 = 6\n",
      "6 x 2 = 12\n",
      "6 x 3 = 18\n",
      "6 x 4 = 24\n",
      "6 x 5 = 30\n",
      "6 x 6 = 36\n",
      "6 x 7 = 42\n",
      "6 x 8 = 48\n",
      "6 x 9 = 54\n",
      "6 x 10 = 60\n",
      "6 x 11 = 66\n",
      "6 x 12 = 72\n",
      "===============\n",
      "7 multiple\n",
      "7 x 1 = 7\n",
      "7 x 2 = 14\n",
      "7 x 3 = 21\n",
      "7 x 4 = 28\n",
      "7 x 5 = 35\n",
      "7 x 6 = 42\n",
      "7 x 7 = 49\n",
      "7 x 8 = 56\n",
      "7 x 9 = 63\n",
      "7 x 10 = 70\n",
      "7 x 11 = 77\n",
      "7 x 12 = 84\n",
      "===============\n",
      "8 multiple\n",
      "8 x 1 = 8\n",
      "8 x 2 = 16\n",
      "8 x 3 = 24\n",
      "8 x 4 = 32\n",
      "8 x 5 = 40\n",
      "8 x 6 = 48\n",
      "8 x 7 = 56\n",
      "8 x 8 = 64\n",
      "8 x 9 = 72\n",
      "8 x 10 = 80\n",
      "8 x 11 = 88\n",
      "8 x 12 = 96\n",
      "===============\n",
      "9 multiple\n",
      "9 x 1 = 9\n",
      "9 x 2 = 18\n",
      "9 x 3 = 27\n",
      "9 x 4 = 36\n",
      "9 x 5 = 45\n",
      "9 x 6 = 54\n",
      "9 x 7 = 63\n",
      "9 x 8 = 72\n",
      "9 x 9 = 81\n",
      "9 x 10 = 90\n",
      "9 x 11 = 99\n",
      "9 x 12 = 108\n",
      "===============\n",
      "10 multiple\n",
      "10 x 1 = 10\n",
      "10 x 2 = 20\n",
      "10 x 3 = 30\n",
      "10 x 4 = 40\n",
      "10 x 5 = 50\n",
      "10 x 6 = 60\n",
      "10 x 7 = 70\n",
      "10 x 8 = 80\n",
      "10 x 9 = 90\n",
      "10 x 10 = 100\n",
      "10 x 11 = 110\n",
      "10 x 12 = 120\n",
      "===============\n",
      "11 multiple\n",
      "11 x 1 = 11\n",
      "11 x 2 = 22\n",
      "11 x 3 = 33\n",
      "11 x 4 = 44\n",
      "11 x 5 = 55\n",
      "11 x 6 = 66\n",
      "11 x 7 = 77\n",
      "11 x 8 = 88\n",
      "11 x 9 = 99\n",
      "11 x 10 = 110\n",
      "11 x 11 = 121\n",
      "11 x 12 = 132\n",
      "===============\n",
      "12 multiple\n",
      "12 x 1 = 12\n",
      "12 x 2 = 24\n",
      "12 x 3 = 36\n",
      "12 x 4 = 48\n",
      "12 x 5 = 60\n",
      "12 x 6 = 72\n",
      "12 x 7 = 84\n",
      "12 x 8 = 96\n",
      "12 x 9 = 108\n",
      "12 x 10 = 120\n",
      "12 x 11 = 132\n",
      "12 x 12 = 144\n",
      "===============\n",
      "13 multiple\n"
     ]
    }
   ],
   "source": [
    "print(\"2 multiple\")\n",
    "for i in range(2, 13):\n",
    "    for a in range(1, 13):\n",
    "        print(i, \"x\", a, \"=\", a * i)\n",
    "    print(\"===============\")\n",
    "    print(i + 1, \"multiple\")"
   ]
  },
  {
   "cell_type": "code",
   "execution_count": null,
   "id": "a54a009d",
   "metadata": {},
   "outputs": [],
   "source": [
    "i = 1\n",
    "a = 2\n",
    "while i < 13:\n",
    "    for a in range(1, 13):\n",
    "        print(i, \"x\", a, \"=\", a * i)\n",
    "    i+=1"
   ]
  },
  {
   "cell_type": "markdown",
   "id": "be012d9c",
   "metadata": {},
   "source": [
    "## Python Functions"
   ]
  },
  {
   "cell_type": "raw",
   "id": "22f54070",
   "metadata": {},
   "source": [
    "A function is a block of code which only runs when it is called.\n",
    "\n",
    "You can pass data, known as parameters, into a function.\n",
    "\n",
    "A function can return data as a result.\n",
    "\n",
    "Creating a Function\n",
    "In Python a function is defined using the def keyword:"
   ]
  },
  {
   "cell_type": "code",
   "execution_count": null,
   "id": "9b75d07a",
   "metadata": {},
   "outputs": [],
   "source": [
    "def my_function():\n",
    "    print(\"Hello from a function\")"
   ]
  },
  {
   "cell_type": "code",
   "execution_count": null,
   "id": "07234f4b",
   "metadata": {},
   "outputs": [],
   "source": [
    "def my_function():\n",
    "    print(\"Hello from a function\")\n",
    "\n",
    "my_function()"
   ]
  },
  {
   "cell_type": "raw",
   "id": "a940b255",
   "metadata": {},
   "source": [
    "Arguments\n",
    "\n",
    "Information can be passed into functions as arguments.\n",
    "\n",
    "Arguments are specified after the function name, inside the parentheses. \n",
    "You can add as many arguments as you want, just separate them with a comma.\n",
    "\n",
    "The following example has a function with one argument (fname). \n",
    "When the function is called, we pass along a first name, \n",
    "which is used inside the function to print the full name:"
   ]
  },
  {
   "cell_type": "code",
   "execution_count": 2,
   "id": "4254c120",
   "metadata": {},
   "outputs": [
    {
     "name": "stdout",
     "output_type": "stream",
     "text": [
      "Emil Refsnes\n",
      "Tobias Refsnes\n",
      "Linus Refsnes\n"
     ]
    }
   ],
   "source": [
    "def my_function(fname):\n",
    "    print(fname + \" Refsnes\")\n",
    "\n",
    "my_function(\"Emil\")\n",
    "my_function(\"Tobias\")\n",
    "my_function(\"Linus\")"
   ]
  },
  {
   "cell_type": "raw",
   "id": "4a278aa2",
   "metadata": {},
   "source": [
    "From a function's perspective:\n",
    "\n",
    "A parameter is the variable listed inside the parentheses in the function definition.\n",
    "An argument is the value that is sent to the function when it is called."
   ]
  },
  {
   "cell_type": "raw",
   "id": "6b4718be",
   "metadata": {},
   "source": [
    "Number of Arguments\n",
    "\n",
    "By default, a function must be called with the correct number of arguments. \n",
    "Meaning that if your function expects 2 arguments, \n",
    "you have to call the function with 2 arguments, not more, and not less."
   ]
  },
  {
   "cell_type": "code",
   "execution_count": 5,
   "id": "eebe7d6a",
   "metadata": {},
   "outputs": [
    {
     "data": {
      "text/plain": [
       "3"
      ]
     },
     "execution_count": 5,
     "metadata": {},
     "output_type": "execute_result"
    }
   ],
   "source": [
    "def func(a):\n",
    "    return(a)\n",
    "\n",
    "func(3)"
   ]
  },
  {
   "cell_type": "code",
   "execution_count": null,
   "id": "cca8888b",
   "metadata": {},
   "outputs": [],
   "source": [
    "#This function expects 2 arguments, and gets 2 arguments:\n",
    "def my_function(fname, lname):\n",
    "    print(fname + \" \" + lname)\n",
    "\n",
    "my_function(\"Emil\", \"Refsnes\")"
   ]
  },
  {
   "cell_type": "code",
   "execution_count": 5,
   "id": "66f3c637",
   "metadata": {},
   "outputs": [],
   "source": [
    "def details(fullname, email):\n",
    "    print(\"we have gotten your fullname which is : \"+fullname+ \" and email which is: \" +email)"
   ]
  },
  {
   "cell_type": "code",
   "execution_count": 6,
   "id": "2d7475d2",
   "metadata": {},
   "outputs": [
    {
     "name": "stdout",
     "output_type": "stream",
     "text": [
      "we have gotten your fullname which is : victor and email which is: victor@yahoo.com\n"
     ]
    }
   ],
   "source": [
    "details(\"victor\", \"victor@yahoo.com\")"
   ]
  },
  {
   "cell_type": "code",
   "execution_count": 4,
   "id": "61b0d8c1",
   "metadata": {},
   "outputs": [
    {
     "name": "stdout",
     "output_type": "stream",
     "text": [
      "7\n"
     ]
    }
   ],
   "source": [
    "def add(a, b):\n",
    "    print(a+b)\n",
    "\n",
    "add(2, 5)   "
   ]
  },
  {
   "cell_type": "code",
   "execution_count": 18,
   "id": "4be1d2ae",
   "metadata": {},
   "outputs": [
    {
     "name": "stdout",
     "output_type": "stream",
     "text": [
      "8\n"
     ]
    }
   ],
   "source": [
    "entry1 = int(input(\"enter first number for addition\"))\n",
    "entry2 = int(input(\"enter second number for addition\"))\n",
    "\n",
    "add(entry1, entry2)"
   ]
  },
  {
   "cell_type": "code",
   "execution_count": 17,
   "id": "4f0ac7ac",
   "metadata": {},
   "outputs": [
    {
     "name": "stdout",
     "output_type": "stream",
     "text": [
      "name is less than 6 letter words, you need to try again\n",
      "meanwhile you have  4  opportunies left to try\n",
      "name accepted and registered\n"
     ]
    }
   ],
   "source": [
    "#enter your name 5 times but must be 6 letter words\n",
    "\n",
    "#Assignment - function to get the multiplication table of any number entered by a user.\n"
   ]
  },
  {
   "cell_type": "markdown",
   "id": "4d8454d3",
   "metadata": {},
   "source": [
    "## Arbitrary Arguments, *args"
   ]
  },
  {
   "cell_type": "raw",
   "id": "e5f50357",
   "metadata": {},
   "source": [
    "If you do not know how many arguments that will be passed into your function, \n",
    "add a * before the parameter name in the function definition.\n",
    "\n",
    "This way the function will receive a tuple of arguments, and can access the items accordingly:"
   ]
  },
  {
   "cell_type": "code",
   "execution_count": 13,
   "id": "c79c610c",
   "metadata": {},
   "outputs": [],
   "source": [
    "#If the number of arguments is unknown, add a * before the parameter name:\n",
    "\n",
    "def my_function(*kids):\n",
    "    print(\"The number of kids \" , len(kids))"
   ]
  },
  {
   "cell_type": "code",
   "execution_count": 19,
   "id": "961d8a29",
   "metadata": {},
   "outputs": [
    {
     "name": "stdout",
     "output_type": "stream",
     "text": [
      "the nameayo\n",
      "the namebola\n",
      "The number of kids  2\n"
     ]
    }
   ],
   "source": [
    "firstkid = input(\"the name\")\n",
    "secondkid = input(\"the name\")\n",
    "\n",
    "my_function(firstkid, secondkid)"
   ]
  },
  {
   "cell_type": "code",
   "execution_count": 7,
   "id": "0031dd64",
   "metadata": {},
   "outputs": [
    {
     "name": "stdout",
     "output_type": "stream",
     "text": [
      "The youngest child is Linus\n"
     ]
    }
   ],
   "source": [
    "#If the number of arguments is unknown, add a * before the parameter name:\n",
    "def my_function(*kids):\n",
    "    print(\"The youngest child is \" + kids[-1])\n",
    "    \n",
    "my_function(\"Emil\", \"Tobias\", \"Linus\")"
   ]
  },
  {
   "cell_type": "code",
   "execution_count": null,
   "id": "880ec0d3",
   "metadata": {},
   "outputs": [],
   "source": []
  },
  {
   "cell_type": "markdown",
   "id": "7c4fd3aa",
   "metadata": {},
   "source": [
    "## Arbitrary Keyword Arguments, **kwargs"
   ]
  },
  {
   "cell_type": "raw",
   "id": "5d82ad57",
   "metadata": {},
   "source": [
    "If you do not know how many keyword arguments that will be passed into your function, \n",
    "add two asterisk: ** before the parameter name in the function definition.\n",
    "\n",
    "This way the function will receive a dictionary of arguments, and can access the items accordingly:"
   ]
  },
  {
   "cell_type": "code",
   "execution_count": 32,
   "id": "a5fbab13",
   "metadata": {},
   "outputs": [],
   "source": [
    "def myfunc(**name):\n",
    "    print(name)"
   ]
  },
  {
   "cell_type": "code",
   "execution_count": 35,
   "id": "735f196d",
   "metadata": {},
   "outputs": [
    {
     "name": "stdout",
     "output_type": "stream",
     "text": [
      "{'name1': 'bimpe', 'name2': 'sola'}\n"
     ]
    }
   ],
   "source": [
    "myfunc(name1=\"bimpe\", name2=\"sola\")"
   ]
  },
  {
   "cell_type": "code",
   "execution_count": 5,
   "id": "35f05443",
   "metadata": {},
   "outputs": [
    {
     "name": "stdout",
     "output_type": "stream",
     "text": [
      "His last name is Refsnes\n"
     ]
    }
   ],
   "source": [
    "#If the number of keyword arguments is unknown, add a double ** before the parameter name:\n",
    "\n",
    "def my_function(**kid):\n",
    "      print(\"His last name is \" + kid[\"lname\"])\n",
    "\n",
    "my_function(fname = \"Tobias\", lname = \"Refsnes\")"
   ]
  },
  {
   "cell_type": "code",
   "execution_count": null,
   "id": "67083d84",
   "metadata": {},
   "outputs": [],
   "source": []
  },
  {
   "cell_type": "code",
   "execution_count": 1,
   "id": "ba921ffd",
   "metadata": {},
   "outputs": [],
   "source": [
    "# Default Parameter Value\n",
    "\n",
    "# The following example shows how to use a default parameter value\n",
    "# If we call the function without argument, it uses the default value:"
   ]
  },
  {
   "cell_type": "code",
   "execution_count": 6,
   "id": "8e2819b0",
   "metadata": {},
   "outputs": [
    {
     "name": "stdout",
     "output_type": "stream",
     "text": [
      "I am from Sweden\n",
      "I am from India\n",
      "I am from Norway\n",
      "I am from Brazil\n"
     ]
    }
   ],
   "source": [
    "def my_function(country = \"Norway\"):\n",
    "    print(\"I am from \" + country)\n",
    "\n",
    "my_function(\"Sweden\")\n",
    "my_function(\"India\")\n",
    "my_function()\n",
    "my_function(\"Brazil\")"
   ]
  },
  {
   "cell_type": "raw",
   "id": "5d4596c9",
   "metadata": {},
   "source": [
    "Passing a List as an Argument\n",
    "\n",
    "You can send any data types of argument to a function (string, number, list, dictionary etc.), \n",
    "and it will be treated as the same data type inside the function.\n",
    "E.g. if you send a List as an argument, it will still be a List when it reaches the function:"
   ]
  },
  {
   "cell_type": "code",
   "execution_count": null,
   "id": "10e897b8",
   "metadata": {},
   "outputs": [],
   "source": [
    "def my_function(food):\n",
    "    for x in food:\n",
    "    print(x)\n",
    "\n",
    "fruits = [\"apple\", \"banana\", \"cherry\"]\n",
    "\n",
    "my_function(fruits)"
   ]
  },
  {
   "cell_type": "code",
   "execution_count": null,
   "id": "abea914e",
   "metadata": {},
   "outputs": [],
   "source": [
    "#Return Values\n",
    "#To let a function return a value, use the return statement:"
   ]
  },
  {
   "cell_type": "code",
   "execution_count": null,
   "id": "2ae015e7",
   "metadata": {},
   "outputs": [],
   "source": [
    "def my_function(x):\n",
    "    return 5 * x\n",
    "\n",
    "print(my_function(3))\n",
    "print(my_function(5))\n",
    "print(my_function(9))"
   ]
  },
  {
   "cell_type": "markdown",
   "id": "367d95cb",
   "metadata": {},
   "source": [
    "## Recursion"
   ]
  },
  {
   "cell_type": "raw",
   "id": "6364cb47",
   "metadata": {},
   "source": [
    "Python also accepts function recursion, which means a defined function can call itself.\n",
    "\n",
    "Recursion is a common mathematical and programming concept. It means that a function calls itself. \n",
    "This has the benefit of meaning that you can loop through data to reach a result.\n",
    "\n",
    "The developer should be very careful with recursion as it can be quite easy to slip into writing a function which never terminates, or one that uses excess amounts of memory or processor power. However, \n",
    "when written correctly recursion can be a very efficient and mathematically-elegant approach to programming.\n",
    "\n",
    "In this example, tri_recursion() is a function that we have defined to call itself (\"recurse\"). \n",
    "We use the k variable as the data, which decrements (-1) every time we recurse. \n",
    "The recursion ends when the condition is not greater than 0 (i.e. when it is 0).\n",
    "\n",
    "To a new developer it can take some time to work out how exactly this works, \n",
    "best way to find out is by testing and modifying it."
   ]
  },
  {
   "cell_type": "code",
   "execution_count": 8,
   "id": "fe7beedc",
   "metadata": {},
   "outputs": [
    {
     "name": "stdout",
     "output_type": "stream",
     "text": [
      "\n",
      "\n",
      "Recursion Example Results\n",
      "1\n",
      "3\n",
      "6\n",
      "10\n",
      "15\n",
      "21\n"
     ]
    },
    {
     "data": {
      "text/plain": [
       "21"
      ]
     },
     "execution_count": 8,
     "metadata": {},
     "output_type": "execute_result"
    }
   ],
   "source": [
    "#Recursion Example\n",
    "def tri_recursion(k):\n",
    "    if(k > 0):\n",
    "        result = k + tri_recursion(k - 1)\n",
    "        print(result)\n",
    "    else:\n",
    "        result = 0\n",
    "    return result\n",
    "\n",
    "print(\"\\n\\nRecursion Example Results\")\n",
    "tri_recursion(6)"
   ]
  },
  {
   "cell_type": "markdown",
   "id": "3c1cdfe1",
   "metadata": {},
   "source": [
    "## Python Lambda"
   ]
  },
  {
   "cell_type": "raw",
   "id": "3fd77bd1",
   "metadata": {},
   "source": [
    "A lambda function is a small anonymous function.\n",
    "A lambda function can take any number of arguments, but can only have one expression."
   ]
  },
  {
   "cell_type": "raw",
   "id": "078f37a1",
   "metadata": {},
   "source": [
    "Syntax\n",
    "lambda arguments : expression\n",
    "The expression is executed and the result is returned:"
   ]
  },
  {
   "cell_type": "code",
   "execution_count": 36,
   "id": "9be20b0c",
   "metadata": {},
   "outputs": [
    {
     "name": "stdout",
     "output_type": "stream",
     "text": [
      "15\n"
     ]
    }
   ],
   "source": [
    "#Add 10 to argument a, and return the result:\n",
    "x = lambda a : a + 10\n",
    "print(x(5))"
   ]
  },
  {
   "cell_type": "code",
   "execution_count": 37,
   "id": "ac5a5213",
   "metadata": {},
   "outputs": [
    {
     "name": "stdout",
     "output_type": "stream",
     "text": [
      "30\n"
     ]
    }
   ],
   "source": [
    "#Multiply argument a with argument b and return the result:\n",
    "x = lambda a, b : a * b\n",
    "print(x(5, 6))"
   ]
  },
  {
   "cell_type": "code",
   "execution_count": 2,
   "id": "7e9769bc",
   "metadata": {},
   "outputs": [
    {
     "name": "stdout",
     "output_type": "stream",
     "text": [
      "13\n"
     ]
    }
   ],
   "source": [
    "#Summarize argument a, b, and c and return the result:\n",
    "x = lambda a, b, c : a + b + c\n",
    "print(x(5, 6, 2))"
   ]
  },
  {
   "cell_type": "markdown",
   "id": "81b30a0c",
   "metadata": {},
   "source": [
    "#### Why Use Lambda Functions?"
   ]
  },
  {
   "cell_type": "raw",
   "id": "72e20e20",
   "metadata": {},
   "source": [
    "The power of lambda is better shown when you use them as an anonymous function inside another function.\n",
    "\n",
    "Say you have a function definition that takes one argument, \n",
    "and that argument will be multiplied with an unknown number:"
   ]
  },
  {
   "cell_type": "code",
   "execution_count": 40,
   "id": "43130998",
   "metadata": {},
   "outputs": [
    {
     "name": "stdout",
     "output_type": "stream",
     "text": [
      "4\n"
     ]
    }
   ],
   "source": [
    "def myfunc(n):\n",
    "    return lambda a : a * n\n",
    "    \n",
    "\n",
    "x = myfunc(2)\n",
    "print(x(2))"
   ]
  },
  {
   "cell_type": "code",
   "execution_count": 41,
   "id": "565d1adb",
   "metadata": {},
   "outputs": [
    {
     "name": "stdout",
     "output_type": "stream",
     "text": [
      "33\n"
     ]
    }
   ],
   "source": [
    "def myfunc(n):\n",
    "    return lambda a : a * n\n",
    "\n",
    "mytripler = myfunc(3)\n",
    "\n",
    "print(mytripler(11))"
   ]
  },
  {
   "cell_type": "code",
   "execution_count": 1,
   "id": "4987b154",
   "metadata": {},
   "outputs": [
    {
     "name": "stdout",
     "output_type": "stream",
     "text": [
      "22\n",
      "33\n"
     ]
    }
   ],
   "source": [
    "def myfunc(n):\n",
    "    return lambda a : a * n\n",
    "\n",
    "mydoubler = myfunc(2)\n",
    "mytripler = myfunc(3)\n",
    "\n",
    "print(mydoubler(11))\n",
    "print(mytripler(11))"
   ]
  },
  {
   "cell_type": "markdown",
   "id": "f453687a",
   "metadata": {},
   "source": [
    "## Python Classes/Objects"
   ]
  },
  {
   "cell_type": "raw",
   "id": "0e2eb251",
   "metadata": {},
   "source": [
    "Python is an object oriented programming language.\n",
    "Almost everything in Python is an object, with its properties and methods.\n",
    "A Class is like an object constructor, or a \"blueprint\" for creating objects."
   ]
  },
  {
   "cell_type": "raw",
   "id": "cf3adf44",
   "metadata": {},
   "source": [
    "Create a Class\n",
    "To create a class, use the keyword class:"
   ]
  },
  {
   "cell_type": "code",
   "execution_count": 5,
   "id": "247e7bdd",
   "metadata": {},
   "outputs": [],
   "source": [
    "#Create a class named MyClass, with a property named x:\n",
    "class MyClass:\n",
    "    x = 5"
   ]
  },
  {
   "cell_type": "code",
   "execution_count": 43,
   "id": "aba73da1",
   "metadata": {},
   "outputs": [
    {
     "name": "stdout",
     "output_type": "stream",
     "text": [
      "5\n"
     ]
    }
   ],
   "source": [
    "#Create an object named p1, and print the value of x:\n",
    "\n",
    "p1 = MyClass()\n",
    "print(p1.x)"
   ]
  },
  {
   "cell_type": "markdown",
   "id": "69ec148e",
   "metadata": {},
   "source": [
    "## The __init__() Function"
   ]
  },
  {
   "cell_type": "raw",
   "id": "ef582189",
   "metadata": {},
   "source": [
    "\n",
    "The examples above are classes and objects in their simplest form, \n",
    "and are not really useful in real life applications.\n",
    "\n",
    "To understand the meaning of classes we have to understand the built-in __init__() function.\n",
    "\n",
    "All classes have a function called __init__(), which is always executed when the class is being initiated.\n",
    "\n",
    "Use the __init__() function to assign values to object properties, \n",
    "or other operations that are necessary to do when the object is being created:"
   ]
  },
  {
   "cell_type": "code",
   "execution_count": 48,
   "id": "48a69d26",
   "metadata": {},
   "outputs": [
    {
     "name": "stdout",
     "output_type": "stream",
     "text": [
      "10\n"
     ]
    }
   ],
   "source": [
    "#Create a class named Person, use the __init__() function to assign values for name and age:\n",
    "\n",
    "class Person:\n",
    "    def __init__(self, name, age):\n",
    "        self.name = name\n",
    "        self.age = age\n",
    "\n",
    "p1 = Person(\"John\", 36)\n",
    "\n",
    "print(p1.name)\n",
    "print(p1.age)"
   ]
  },
  {
   "cell_type": "code",
   "execution_count": 50,
   "id": "73f7c165",
   "metadata": {},
   "outputs": [
    {
     "name": "stdout",
     "output_type": "stream",
     "text": [
      "30\n"
     ]
    }
   ],
   "source": [
    "class Item:\n",
    "    def __init__(self, x):\n",
    "        self.x = x\n",
    "\n",
    "p2 = Item(30)\n",
    "print(p2.x)"
   ]
  },
  {
   "cell_type": "code",
   "execution_count": 7,
   "id": "aee1d51d",
   "metadata": {},
   "outputs": [
    {
     "name": "stdout",
     "output_type": "stream",
     "text": [
      "Hello my name is John\n"
     ]
    }
   ],
   "source": [
    "#Insert a function that prints a greeting, and execute it on the p1 object:\n",
    "class Person:\n",
    "  def __init__(self, name, age):\n",
    "    self.name = name\n",
    "    self.age = age\n",
    "\n",
    "  def myfunc(self):\n",
    "    print(\"Hello my name is \" + self.name)\n",
    "\n",
    "p1 = Person(\"John\", 36)\n",
    "p1.myfunc()"
   ]
  },
  {
   "cell_type": "markdown",
   "id": "8dc41f30",
   "metadata": {},
   "source": []
  },
  {
   "cell_type": "markdown",
   "id": "b6ed284e",
   "metadata": {},
   "source": [
    "### The self Parameter"
   ]
  },
  {
   "cell_type": "markdown",
   "id": "99f0c28c",
   "metadata": {},
   "source": [
    "The self parameter is a reference to the current instance of the class, \n",
    "and is used to access variables that belongs to the class.\n",
    "It does not have to be named self , you can call it whatever you like, \n",
    "but it has to be the first parameter of any function in the class:"
   ]
  },
  {
   "cell_type": "code",
   "execution_count": 11,
   "id": "db40f9c0",
   "metadata": {},
   "outputs": [
    {
     "name": "stdout",
     "output_type": "stream",
     "text": [
      "Hello my name is John\n"
     ]
    }
   ],
   "source": [
    "#Use the words mysillyobject and abc instead of self:\n",
    "\n",
    "class Person:\n",
    "  def __init__(mysillyobject, name, age):\n",
    "    mysillyobject.name = name\n",
    "    mysillyobject.age = age\n",
    "\n",
    "  def myfunc(abc):\n",
    "    print(\"Hello my name is \" + abc.name)\n",
    "\n",
    "p1 = Person(\"John\", 36)\n",
    "p1.myfunc()"
   ]
  },
  {
   "cell_type": "markdown",
   "id": "632845f9",
   "metadata": {},
   "source": [
    "Modify Object Properties\n",
    "You can modify properties on objects like this:"
   ]
  },
  {
   "cell_type": "code",
   "execution_count": 12,
   "id": "27284a4e",
   "metadata": {},
   "outputs": [],
   "source": [
    "p1.age = 40\n",
    "#Delete the age property from the p1 object:\n",
    "del p1.age\n",
    "\n",
    "#Delete the p1 object:\n",
    "del p1"
   ]
  },
  {
   "cell_type": "markdown",
   "id": "2cec97d4",
   "metadata": {},
   "source": [
    "### Python Inheritance"
   ]
  },
  {
   "cell_type": "markdown",
   "id": "691cfaf2",
   "metadata": {},
   "source": [
    "Inheritance allows us to define a class that inherits all the methods and properties from another class.\n",
    "Parent class is the class being inherited from, also called base class.\n",
    "Child class is the class that inherits from another class, also called derived class."
   ]
  },
  {
   "cell_type": "code",
   "execution_count": 23,
   "id": "adde5e69",
   "metadata": {},
   "outputs": [
    {
     "name": "stdout",
     "output_type": "stream",
     "text": [
      "John Doe\n"
     ]
    }
   ],
   "source": [
    "#Create a class named Person, with firstname and lastname properties, and a printname method:\n",
    "\n",
    "class Person:\n",
    "  def __init__(self, fname, lname):\n",
    "    self.firstname = fname\n",
    "    self.lastname = lname\n",
    "\n",
    "  def printname(self):\n",
    "    print(self.firstname, self.lastname)\n",
    "\n",
    "#Use the Person class to create an object, and then execute the printname method:\n",
    "\n",
    "x = Person(\"John\", \"Doe\")\n",
    "x.printname()"
   ]
  },
  {
   "cell_type": "code",
   "execution_count": 18,
   "id": "fce5a001",
   "metadata": {},
   "outputs": [],
   "source": [
    "#Create a class named Student, which will inherit the properties and methods from the Person class:\n",
    "\n",
    "class Student(Person):\n",
    "    pass"
   ]
  },
  {
   "cell_type": "code",
   "execution_count": 25,
   "id": "6813ffa0",
   "metadata": {},
   "outputs": [
    {
     "ename": "AttributeError",
     "evalue": "'Student' object has no attribute 'printname'",
     "output_type": "error",
     "traceback": [
      "\u001b[0;31m---------------------------------------------------------------------------\u001b[0m",
      "\u001b[0;31mAttributeError\u001b[0m                            Traceback (most recent call last)",
      "Cell \u001b[0;32mIn[25], line 4\u001b[0m\n\u001b[1;32m      1\u001b[0m \u001b[38;5;66;03m#Use the Student class to create an object, and then execute the printname method:\u001b[39;00m\n\u001b[1;32m      3\u001b[0m x \u001b[38;5;241m=\u001b[39m Student(\u001b[38;5;124m\"\u001b[39m\u001b[38;5;124mMike\u001b[39m\u001b[38;5;124m\"\u001b[39m, \u001b[38;5;124m\"\u001b[39m\u001b[38;5;124mOlsen\u001b[39m\u001b[38;5;124m\"\u001b[39m)\n\u001b[0;32m----> 4\u001b[0m \u001b[43mx\u001b[49m\u001b[38;5;241;43m.\u001b[39;49m\u001b[43mprintname\u001b[49m()\n",
      "\u001b[0;31mAttributeError\u001b[0m: 'Student' object has no attribute 'printname'"
     ]
    }
   ],
   "source": [
    "#Use the Student class to create an object, and then execute the printname method:\n",
    "\n",
    "x = Student(\"Mike\", \"Olsen\")\n",
    "x.printname()\n",
    "\n"
   ]
  },
  {
   "cell_type": "markdown",
   "id": "46aabaff",
   "metadata": {},
   "source": [
    "### Add the __init__() Function"
   ]
  },
  {
   "cell_type": "markdown",
   "id": "e8bf4345",
   "metadata": {},
   "source": [
    "So far we have created a child class that inherits the properties and methods from its parent.\n",
    "We want to add the __init__() function to the child class (instead of the pass keyword)."
   ]
  },
  {
   "cell_type": "code",
   "execution_count": null,
   "id": "f31d37d8",
   "metadata": {},
   "outputs": [],
   "source": [
    "#Add the __init__() function to the Student class:\n",
    "\n",
    "class Student(Person):\n",
    "  def __init__(self, fname, lname):\n",
    "    #add properties etc."
   ]
  },
  {
   "cell_type": "code",
   "execution_count": 40,
   "id": "385c23bf",
   "metadata": {},
   "outputs": [
    {
     "name": "stdout",
     "output_type": "stream",
     "text": [
      "2023\n",
      "victor quadri\n",
      "welcome victor quadri to class 2023\n"
     ]
    }
   ],
   "source": [
    "#To keep the inheritance of the parent's __init__() function, add a call to the parent's __init__() function:\n",
    "\n",
    "class Student(Person):\n",
    "  def __init__(self, fname, lname,year):\n",
    "    # Person.__init__(self, fname, lname)\n",
    "    super().__init__(fname, lname)\n",
    "    self.fname = fname\n",
    "    self.lname = lname\n",
    "    self.graduationyear = year\n",
    "    print(self.graduationyear)\n",
    "\n",
    "  def welcome(self):\n",
    "    print(\"welcome\", self.fname, self.lname ,\"to class\",self.graduationyear)\n",
    "    \n",
    "\n",
    "suuu = Student(\"victor\" , \"quadri\", 2023)\n",
    "suuu.printname()\n",
    "suuu.welcome()"
   ]
  },
  {
   "cell_type": "code",
   "execution_count": 7,
   "id": "697917e9",
   "metadata": {},
   "outputs": [
    {
     "name": "stdout",
     "output_type": "stream",
     "text": [
      "the name of the manager is mr ayomide\n",
      "the name of the faculty is mr victor\n"
     ]
    }
   ],
   "source": [
    "class aptech():\n",
    "    def __init__(self, faculty, director,manager):\n",
    "      self.faculty = faculty\n",
    "      self.director = director\n",
    "      self.manager = manager\n",
    "\n",
    "\n",
    "    def mana(self):\n",
    "       print(\"the name of the manager is\", self.manager) \n",
    "\n",
    "    def fac(self):\n",
    "       print(\"the name of the faculty is\",self.faculty)   \n",
    "\n",
    "name = aptech(\"mr victor\", \"mr quadri\",\"mr ayomide\")  \n",
    "name.mana() \n",
    "name.fac()    \n"
   ]
  },
  {
   "cell_type": "code",
   "execution_count": null,
   "id": "14868e3f",
   "metadata": {},
   "outputs": [],
   "source": [
    "class aptech():\n",
    "    def __init__(self,faculty,director,manager):\n",
    "        super(). __init__(faculty,manager)\n",
    "        self.faculty = faculty\n",
    "        self.manager = manager\n",
    "        self.director = director\n",
    "\n",
    "    def display(self):\n",
    "        print(\"the name name of the director\", self.director)\n",
    "            "
   ]
  },
  {
   "cell_type": "markdown",
   "id": "c577e9c9",
   "metadata": {},
   "source": [
    "### Instance Methods vs Static Methods"
   ]
  },
  {
   "cell_type": "code",
   "execution_count": null,
   "id": "e0415be7",
   "metadata": {},
   "outputs": [],
   "source": [
    "class Example:\n",
    "    class_variable = \"I am a class variable\"\n",
    "    \n",
    "    def __init__(self, instance_variable):\n",
    "        self.instance_variable = instance_variable\n",
    "    \n",
    "    def instance_method(self):\n",
    "        # Can access instance and class variables\n",
    "        return f\"Instance variable: {self.instance_variable}, Class variable: {Example.class_variable}\"\n",
    "    \n",
    "    @staticmethod\n",
    "    def static_method():\n",
    "        # Cannot access instance variables\n",
    "        return f\"Class variable: {Example.class_variable}\"\n",
    "\n",
    "# Create an instance of the class\n",
    "example_instance = Example(\"I am an instance variable\")\n",
    "\n",
    "# Call the instance method\n",
    "print(example_instance.instance_method())  # Outputs instance and class variable values\n",
    "\n",
    "# Call the static method\n",
    "print(Example.static_method())  # Outputs only the class variable value\n"
   ]
  },
  {
   "cell_type": "code",
   "execution_count": null,
   "id": "6be43892",
   "metadata": {},
   "outputs": [],
   "source": [
    "09168686411"
   ]
  },
  {
   "cell_type": "code",
   "execution_count": 4,
   "id": "b062ee9d",
   "metadata": {},
   "outputs": [
    {
     "name": "stdout",
     "output_type": "stream",
     "text": [
      "[1, 3, 5]\n"
     ]
    }
   ],
   "source": [
    "odd_number = list(filter(lambda x : x % 2 != 0, [1, 2, 3, 4, 5, 6]))\n",
    "print(odd_number)"
   ]
  },
  {
   "cell_type": "code",
   "execution_count": 2,
   "id": "f0240a96",
   "metadata": {},
   "outputs": [
    {
     "name": "stdout",
     "output_type": "stream",
     "text": [
      "[1, 3, 5]\n"
     ]
    }
   ],
   "source": [
    "odd_numbers = list(filter(lambda x: x % 2 != 0, [1, 2, 3, 4, 5, 6]))\n",
    "print(odd_numbers)  # Output: [1, 3, 5]"
   ]
  },
  {
   "cell_type": "code",
   "execution_count": 8,
   "id": "09220289",
   "metadata": {},
   "outputs": [
    {
     "name": "stdout",
     "output_type": "stream",
     "text": [
      "your answer is  10\n"
     ]
    }
   ],
   "source": [
    "def multiply():\n",
    "    return lambda x : x * 2\n",
    "\n",
    "multiplyby2 = multiply()\n",
    "\n",
    "user_input = int(input(\"input your number\"))\n",
    "result = (multiplyby2(user_input))\n",
    "\n",
    "print(f\"your answer is  {result}\")"
   ]
  },
  {
   "cell_type": "code",
   "execution_count": 1,
   "id": "b9f5bc4e",
   "metadata": {},
   "outputs": [
    {
     "ename": "TypeError",
     "evalue": "'type' object is not subscriptable",
     "output_type": "error",
     "traceback": [
      "\u001b[0;31m---------------------------------------------------------------------------\u001b[0m",
      "\u001b[0;31mTypeError\u001b[0m                                 Traceback (most recent call last)",
      "Cell \u001b[0;32mIn[1], line 6\u001b[0m\n\u001b[1;32m      2\u001b[0m     \u001b[38;5;28;01mreturn\u001b[39;00m \u001b[38;5;28;01mlambda\u001b[39;00m x : x \u001b[38;5;241m*\u001b[39m x\n\u001b[1;32m      4\u001b[0m squareby2 \u001b[38;5;241m=\u001b[39m square()\n\u001b[0;32m----> 6\u001b[0m mylist \u001b[38;5;241m=\u001b[39m \u001b[38;5;28;43mint\u001b[39;49m\u001b[43m[\u001b[49m\u001b[38;5;241;43m1\u001b[39;49m\u001b[43m,\u001b[49m\u001b[43m \u001b[49m\u001b[38;5;241;43m2\u001b[39;49m\u001b[43m,\u001b[49m\u001b[43m \u001b[49m\u001b[38;5;241;43m3\u001b[39;49m\u001b[43m,\u001b[49m\u001b[43m \u001b[49m\u001b[38;5;241;43m4\u001b[39;49m\u001b[43m,\u001b[49m\u001b[43m \u001b[49m\u001b[38;5;241;43m5\u001b[39;49m\u001b[43m,\u001b[49m\u001b[43m \u001b[49m\u001b[38;5;241;43m6\u001b[39;49m\u001b[43m]\u001b[49m\n\u001b[1;32m      7\u001b[0m result \u001b[38;5;241m=\u001b[39m (squareby2(mylist))\n\u001b[1;32m      9\u001b[0m \u001b[38;5;28mprint\u001b[39m(\u001b[38;5;124mf\u001b[39m\u001b[38;5;124m\"\u001b[39m\u001b[38;5;124myour answer is \u001b[39m\u001b[38;5;132;01m{\u001b[39;00mresult\u001b[38;5;132;01m}\u001b[39;00m\u001b[38;5;124m\"\u001b[39m)\n",
      "\u001b[0;31mTypeError\u001b[0m: 'type' object is not subscriptable"
     ]
    }
   ],
   "source": [
    "def square():\n",
    "    return lambda x : x * x\n",
    "\n",
    "squareby2 = square()\n",
    "\n",
    "mylist = int[1, 2, 3, 4, 5, 6]\n",
    "result = (squareby2(mylist))\n",
    "\n",
    "print(f\"your answer is {result}\")"
   ]
  },
  {
   "cell_type": "markdown",
   "id": "8f4056a5",
   "metadata": {},
   "source": [
    "In Python, enumerate is a built-in function that allows you to loop over a sequence (such as a list, tuple, or string) and have an automatic counter/index along with the values.\n",
    "\n",
    "The enumerate function returns an iterator that produces tuples, where the first element of the tuple is the index (starting from 0) and the second element is the value from the sequence."
   ]
  },
  {
   "cell_type": "code",
   "execution_count": 5,
   "id": "2f6f39b6",
   "metadata": {},
   "outputs": [
    {
     "name": "stdout",
     "output_type": "stream",
     "text": [
      "[1, 3, 5]\n"
     ]
    }
   ],
   "source": [
    "mylist = [1, 2, 3, 4, 5,6]\n",
    "\n",
    "reeee = lambda x : x % 2 != 0\n",
    "odd_number = list(filter(reeee,mylist))\n",
    "print(odd_number)\n",
    "\n"
   ]
  },
  {
   "cell_type": "code",
   "execution_count": 14,
   "id": "64682439",
   "metadata": {},
   "outputs": [
    {
     "name": "stdout",
     "output_type": "stream",
     "text": [
      "[1, 4, 9, 16, 25, 36]\n"
     ]
    }
   ],
   "source": [
    "list =[1,2,3,4,5,6]\n",
    "mylist = [x**2 for x in list]\n",
    "print(mylist)"
   ]
  },
  {
   "cell_type": "code",
   "execution_count": 21,
   "id": "23c08c7d",
   "metadata": {},
   "outputs": [
    {
     "name": "stdout",
     "output_type": "stream",
     "text": [
      "[(1, 1), (2, 4), (3, 9), (4, 16), (5, 25)]\n"
     ]
    }
   ],
   "source": [
    "list = [1,2,3,4,5]\n",
    "mylist = [(x,x*x) for x in list]\n",
    "print (mylist)\n"
   ]
  },
  {
   "cell_type": "code",
   "execution_count": null,
   "id": "10f2c998",
   "metadata": {},
   "outputs": [],
   "source": [
    "list = [1,2,3,4,5]\n"
   ]
  },
  {
   "cell_type": "code",
   "execution_count": 29,
   "id": "2f143d06",
   "metadata": {},
   "outputs": [
    {
     "name": "stdout",
     "output_type": "stream",
     "text": [
      "[('this', 4), ('is', 2), ('phyton', 6), ('class', 5)]\n"
     ]
    }
   ],
   "source": [
    "kin = \"this is phyton class\"\n",
    "mylist =[(x, len(x)) for x in kin.split()]\n",
    "print(mylist)"
   ]
  },
  {
   "cell_type": "code",
   "execution_count": 3,
   "id": "50f96fcf",
   "metadata": {},
   "outputs": [
    {
     "name": "stdout",
     "output_type": "stream",
     "text": [
      "[-343, 36, -125, 16, -27, 4, -1, 0, 1, 4, 27, 16, 125, 36]\n"
     ]
    }
   ],
   "source": [
    "kin = [(x **2) if x % 2 == 0 else x ** 3 for x in range (-7, 7)]\n",
    "print(kin)\n"
   ]
  },
  {
   "cell_type": "code",
   "execution_count": 4,
   "id": "cf5aaa44",
   "metadata": {},
   "outputs": [
    {
     "ename": "TypeError",
     "evalue": "'list' object cannot be interpreted as an integer",
     "output_type": "error",
     "traceback": [
      "\u001b[0;31m---------------------------------------------------------------------------\u001b[0m",
      "\u001b[0;31mTypeError\u001b[0m                                 Traceback (most recent call last)",
      "Cell \u001b[0;32mIn[4], line 9\u001b[0m\n\u001b[1;32m      1\u001b[0m \u001b[38;5;66;03m# Generate a list of tuples containing numbers and their signs\u001b[39;00m\n\u001b[1;32m      2\u001b[0m \n\u001b[1;32m      3\u001b[0m \u001b[38;5;66;03m# Sample Output\u001b[39;00m\n\u001b[0;32m   (...)\u001b[0m\n\u001b[1;32m      6\u001b[0m \n\u001b[1;32m      7\u001b[0m \u001b[38;5;66;03m# [(-1, 'negative'), (3, 'positive'), (-10, 'negative'), (7, 'positive'), (-11, 'negative'),...]\u001b[39;00m\n\u001b[0;32m----> 9\u001b[0m kin \u001b[38;5;241m=\u001b[39m [(x)\u001b[38;5;28;01mif\u001b[39;00m x \u001b[38;5;241m%\u001b[39m \u001b[38;5;241m2\u001b[39m\u001b[38;5;241m==\u001b[39m \u001b[38;5;241m0\u001b[39m \u001b[38;5;28;01melse\u001b[39;00m x \u001b[38;5;241m*\u001b[39m\u001b[38;5;241m*\u001b[39m\u001b[38;5;241m3\u001b[39m \u001b[38;5;28;01mfor\u001b[39;00m x \u001b[38;5;129;01min\u001b[39;00m \u001b[38;5;28;43mrange\u001b[39;49m\u001b[43m \u001b[49m\u001b[43m(\u001b[49m\u001b[43m[\u001b[49m\u001b[38;5;241;43m-\u001b[39;49m\u001b[38;5;241;43m1\u001b[39;49m\u001b[43m,\u001b[49m\u001b[43m \u001b[49m\u001b[38;5;241;43m3\u001b[39;49m\u001b[43m,\u001b[49m\u001b[43m \u001b[49m\u001b[38;5;241;43m-\u001b[39;49m\u001b[38;5;241;43m10\u001b[39;49m\u001b[43m,\u001b[49m\u001b[43m \u001b[49m\u001b[38;5;241;43m7\u001b[39;49m\u001b[43m,\u001b[49m\u001b[43m \u001b[49m\u001b[38;5;241;43m-\u001b[39;49m\u001b[38;5;241;43m11\u001b[39;49m\u001b[43m,\u001b[49m\u001b[43m \u001b[49m\u001b[38;5;241;43m-\u001b[39;49m\u001b[38;5;241;43m30\u001b[39;49m\u001b[43m,\u001b[49m\u001b[43m \u001b[49m\u001b[38;5;241;43m-\u001b[39;49m\u001b[38;5;241;43m23\u001b[39;49m\u001b[43m,\u001b[49m\u001b[43m \u001b[49m\u001b[38;5;241;43m90\u001b[39;49m\u001b[43m,\u001b[49m\u001b[43m \u001b[49m\u001b[38;5;241;43m54\u001b[39;49m\u001b[43m,\u001b[49m\u001b[43m \u001b[49m\u001b[38;5;241;43m-\u001b[39;49m\u001b[38;5;241;43m19\u001b[39;49m\u001b[43m]\u001b[49m\u001b[43m)\u001b[49m]\n\u001b[1;32m     10\u001b[0m \u001b[38;5;28mprint\u001b[39m(kin)\n",
      "\u001b[0;31mTypeError\u001b[0m: 'list' object cannot be interpreted as an integer"
     ]
    }
   ],
   "source": [
    "# Generate a list of tuples containing numbers and their signs\n",
    "\n",
    "# Sample Output\n",
    "\n",
    "# [-1, 3, -10, 7, -11, -30, -23, 90, 54, -19]\n",
    "\n",
    "# [(-1, 'negative'), (3, 'positive'), (-10, 'negative'), (7, 'positive'), (-11, 'negative'),...]\n",
    "\n",
    "kin = [(x,m)if x % 2== 0 else x **3 for x in range ([-1, 3, -10, 7, -11, -30, -23, 90, 54, -19])]\n",
    "m = \n",
    "print(kin)"
   ]
  },
  {
   "cell_type": "code",
   "execution_count": 17,
   "id": "cdd4aa81",
   "metadata": {},
   "outputs": [
    {
     "name": "stdout",
     "output_type": "stream",
     "text": [
      "7\n"
     ]
    }
   ],
   "source": [
    "\n",
    "# class Person:\n",
    "#   def __init__(mysillyobject, name, age):\n",
    "#     mysillyobject.name = name\n",
    "#     mysillyobject.age = age\n",
    "\n",
    "#   def myfunc(abc):\n",
    "#     print(\"Hello my name is \" + abc.name)\n",
    "\n",
    "# p1 = Person(\"John\", 36)\n",
    "# p1.myfunc()\n",
    "\n",
    "\n",
    "class num:\n",
    "    def __init__(self, num1, num2):\n",
    "       self.num1 = num1\n",
    "       self.num2 = num2\n",
    "       print(p1.num1 + p1.num2)\n",
    "   \n",
    "\n",
    "p1 = num(2, 5) \n",
    "\n",
    "\n",
    "\n"
   ]
  },
  {
   "cell_type": "markdown",
   "id": "88b3dff3",
   "metadata": {},
   "source": [
    "Assignment: Write a Python class Employee with attributes like emp_id, emp_name, emp_salary, and emp_department and methods like calculate_emp_salary, emp_assign_department, and print_employee_details.\n",
    "\n",
    "Sample Employee Data:\n",
    "\"ADAMS\", \"E7876\", 50000, \"ACCOUNTING\"\n",
    "\"JONES\", \"E7499\", 45000, \"RESEARCH\"\n",
    "\"MARTIN\", \"E7900\", 50000, \"SALES\"\n",
    "\"SMITH\", \"E7698\", 55000, \"OPERATIONS\"\n",
    "Use 'assign_department' method to change the department of an employee.\n",
    "Use 'print_employee_details' method to print the details of an employee.\n",
    "Use 'calculate_emp_salary' method takes two arguments: salary and hours_worked, which is the number of hours worked by the employee. If the number of hours worked is more than 50, the method computes overtime and adds it to the salary. Overtime is calculated as following formula:\n",
    "overtime = hours_worked – 50\n",
    "Overtime amount = (overtime * (salary / 50))"
   ]
  },
  {
   "cell_type": "code",
   "execution_count": null,
   "id": "93292ca0",
   "metadata": {},
   "outputs": [],
   "source": [
    "class account():\n",
    "    def __init__(self, name, balance):\n",
    "        self.name = name\n",
    "        self.balance = balance\n",
    "\n",
    "\n",
    "    def __init__(self):\n",
    "        \n"
   ]
  }
 ],
 "metadata": {
  "kernelspec": {
   "display_name": "Python 3 (ipykernel)",
   "language": "python",
   "name": "python3"
  },
  "language_info": {
   "codemirror_mode": {
    "name": "ipython",
    "version": 3
   },
   "file_extension": ".py",
   "mimetype": "text/x-python",
   "name": "python",
   "nbconvert_exporter": "python",
   "pygments_lexer": "ipython3",
   "version": "3.9.6"
  }
 },
 "nbformat": 4,
 "nbformat_minor": 5
}
