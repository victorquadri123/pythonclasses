{
 "cells": [
  {
   "cell_type": "code",
   "execution_count": 68,
   "metadata": {},
   "outputs": [
    {
     "name": "stdout",
     "output_type": "stream",
     "text": [
      "atempt 0\n",
      "atempt 1\n",
      "atempt 2\n"
     ]
    }
   ],
   "source": [
    "# loop\n",
    "# this allows the attempt to be print 3 time and number give it a number\n",
    "for number in range(3):\n",
    "    print(\"atempt\" ,number)"
   ]
  },
  {
   "cell_type": "code",
   "execution_count": 69,
   "metadata": {},
   "outputs": [
    {
     "name": "stdout",
     "output_type": "stream",
     "text": [
      "attempt 1\n",
      "attempt 2\n",
      "attempt 3\n"
     ]
    }
   ],
   "source": [
    "# the will allow the number to start from one\n",
    "for number in range(3):\n",
    "    print(\"attempt\" ,number + 1)"
   ]
  },
  {
   "cell_type": "code",
   "execution_count": 70,
   "metadata": {},
   "outputs": [
    {
     "name": "stdout",
     "output_type": "stream",
     "text": [
      "attempt 1 .\n",
      "attempt 2 ..\n",
      "attempt 3 ...\n"
     ]
    }
   ],
   "source": [
    "# this will allow the \".\" to be print the number of times\n",
    "for number in range(3):\n",
    "    print(\"attempt\" ,number + 1, (number + 1) * \".\")"
   ]
  },
  {
   "cell_type": "code",
   "execution_count": 71,
   "metadata": {},
   "outputs": [
    {
     "name": "stdout",
     "output_type": "stream",
     "text": [
      "1\n",
      "2\n",
      "3\n"
     ]
    }
   ],
   "source": [
    "for number in range(1,4):\n",
    "    print(number)"
   ]
  },
  {
   "cell_type": "code",
   "execution_count": 72,
   "metadata": {},
   "outputs": [
    {
     "name": "stdout",
     "output_type": "stream",
     "text": [
      "attempt 1 .\n",
      "attempt 2 ..\n",
      "attempt 3 ...\n"
     ]
    }
   ],
   "source": [
    "# the will help print the code from 1 and finish before 4\n",
    "for number in range(1, 4):\n",
    "    print(\"attempt\" ,number ,number * \".\")"
   ]
  },
  {
   "cell_type": "code",
   "execution_count": 73,
   "metadata": {},
   "outputs": [
    {
     "name": "stdout",
     "output_type": "stream",
     "text": [
      "attempt 1 .\n",
      "attempt 3 ...\n",
      "attempt 5 .....\n",
      "attempt 7 .......\n",
      "attempt 9 .........\n"
     ]
    }
   ],
   "source": [
    "# the 2 is a step and it will help add a step to the  code\n",
    "for number in range(1, 10 ,2):\n",
    "    print(\"attempt\" ,number ,number * \".\")"
   ]
  },
  {
   "cell_type": "code",
   "execution_count": 74,
   "metadata": {},
   "outputs": [
    {
     "name": "stdout",
     "output_type": "stream",
     "text": [
      "attempt\n",
      "successfull\n"
     ]
    }
   ],
   "source": [
    "successfull = True\n",
    "for number in range(3):\n",
    "    print(\"attempt\")\n",
    "    if successfull:\n",
    "        print(\"successfull\")\n",
    "        break# this will give you one output\n",
    "else:\n",
    "      print(\"you are not successfull\")\n",
    "    # this was writen for the for loop"
   ]
  },
  {
   "cell_type": "code",
   "execution_count": 75,
   "metadata": {},
   "outputs": [
    {
     "name": "stdout",
     "output_type": "stream",
     "text": [
      "0 , 0\n",
      "0 , 1\n",
      "0 , 2\n",
      "1 , 0\n",
      "1 , 1\n",
      "1 , 2\n",
      "2 , 0\n",
      "2 , 1\n",
      "2 , 2\n",
      "3 , 0\n",
      "3 , 1\n",
      "3 , 2\n",
      "4 , 0\n",
      "4 , 1\n",
      "4 , 2\n"
     ]
    }
   ],
   "source": [
    "# nested loop\n",
    "for x in range(5):\n",
    "    for y in range(3):\n",
    "        print(f\"{x} , {y}\")"
   ]
  },
  {
   "cell_type": "code",
   "execution_count": 76,
   "metadata": {},
   "outputs": [
    {
     "name": "stdout",
     "output_type": "stream",
     "text": [
      "1 , 1\n",
      "1 , 2\n",
      "1 , 3\n",
      "2 , 1\n",
      "2 , 2\n",
      "2 , 3\n",
      "3 , 1\n",
      "3 , 2\n",
      "3 , 3\n",
      "4 , 1\n",
      "4 , 2\n",
      "4 , 3\n",
      "5 , 1\n",
      "5 , 2\n",
      "5 , 3\n"
     ]
    }
   ],
   "source": [
    "for x in range(1 ,6):\n",
    "    for y in range(1 ,4):\n",
    "        print(f\"{x} , {y}\")"
   ]
  },
  {
   "cell_type": "code",
   "execution_count": 77,
   "metadata": {},
   "outputs": [
    {
     "name": "stdout",
     "output_type": "stream",
     "text": [
      "1\n",
      "2\n",
      "3\n",
      "4\n"
     ]
    }
   ],
   "source": [
    "# interate\n",
    "for x in [1, 2 ,3 ,4]:\n",
    "    print(x)"
   ]
  },
  {
   "cell_type": "code",
   "execution_count": 78,
   "metadata": {},
   "outputs": [
    {
     "name": "stdout",
     "output_type": "stream",
     "text": [
      "p\n",
      "y\n",
      "t\n",
      "h\n",
      "o\n",
      "n\n"
     ]
    }
   ],
   "source": [
    "for x in \"python\":\n",
    "    print(x)"
   ]
  },
  {
   "cell_type": "code",
   "execution_count": 79,
   "metadata": {},
   "outputs": [
    {
     "name": "stdout",
     "output_type": "stream",
     "text": [
      "we have 2 numbers\n",
      "we have 2 numbers\n",
      "we have 2 numbers\n",
      "we have 2 numbers\n"
     ]
    }
   ],
   "source": [
    "#  write a program that count even number\n",
    "count = 0\n",
    "for i in range(1, 10):\n",
    "    if i % 2 == 0:\n",
    "      count = 2\n",
    "      print(f\"we have {count} numbers\")"
   ]
  },
  {
   "cell_type": "code",
   "execution_count": 80,
   "metadata": {},
   "outputs": [
    {
     "name": "stdout",
     "output_type": "stream",
     "text": [
      "njnd\n",
      "edeind4id\n",
      "did\n"
     ]
    }
   ],
   "source": [
    "list = [\"njnd\",\"edeind4id\",\"did\"]\n",
    "for x in list:\n",
    "    print(x)"
   ]
  },
  {
   "cell_type": "code",
   "execution_count": 81,
   "metadata": {},
   "outputs": [
    {
     "name": "stdout",
     "output_type": "stream",
     "text": [
      "1 x 1 = 1\n",
      "1 x 2 = 2\n",
      "1 x 3 = 3\n",
      "1 x 4 = 4\n",
      "1 x 5 = 5\n",
      "1 x 6 = 6\n",
      "1 x 7 = 7\n",
      "1 x 8 = 8\n",
      "1 x 9 = 9\n",
      "1 x 10 = 10\n",
      "1 x 11 = 11\n",
      "1 x 12 = 12\n",
      "2 x 1 = 2\n",
      "2 x 2 = 4\n",
      "2 x 3 = 6\n",
      "2 x 4 = 8\n",
      "2 x 5 = 10\n",
      "2 x 6 = 12\n",
      "2 x 7 = 14\n",
      "2 x 8 = 16\n",
      "2 x 9 = 18\n",
      "2 x 10 = 20\n",
      "2 x 11 = 22\n",
      "2 x 12 = 24\n",
      "3 x 1 = 3\n",
      "3 x 2 = 6\n",
      "3 x 3 = 9\n",
      "3 x 4 = 12\n",
      "3 x 5 = 15\n",
      "3 x 6 = 18\n",
      "3 x 7 = 21\n",
      "3 x 8 = 24\n",
      "3 x 9 = 27\n",
      "3 x 10 = 30\n",
      "3 x 11 = 33\n",
      "3 x 12 = 36\n",
      "4 x 1 = 4\n",
      "4 x 2 = 8\n",
      "4 x 3 = 12\n",
      "4 x 4 = 16\n",
      "4 x 5 = 20\n",
      "4 x 6 = 24\n",
      "4 x 7 = 28\n",
      "4 x 8 = 32\n",
      "4 x 9 = 36\n",
      "4 x 10 = 40\n",
      "4 x 11 = 44\n",
      "4 x 12 = 48\n",
      "5 x 1 = 5\n",
      "5 x 2 = 10\n",
      "5 x 3 = 15\n",
      "5 x 4 = 20\n",
      "5 x 5 = 25\n",
      "5 x 6 = 30\n",
      "5 x 7 = 35\n",
      "5 x 8 = 40\n",
      "5 x 9 = 45\n",
      "5 x 10 = 50\n",
      "5 x 11 = 55\n",
      "5 x 12 = 60\n",
      "6 x 1 = 6\n",
      "6 x 2 = 12\n",
      "6 x 3 = 18\n",
      "6 x 4 = 24\n",
      "6 x 5 = 30\n",
      "6 x 6 = 36\n",
      "6 x 7 = 42\n",
      "6 x 8 = 48\n",
      "6 x 9 = 54\n",
      "6 x 10 = 60\n",
      "6 x 11 = 66\n",
      "6 x 12 = 72\n",
      "7 x 1 = 7\n",
      "7 x 2 = 14\n",
      "7 x 3 = 21\n",
      "7 x 4 = 28\n",
      "7 x 5 = 35\n",
      "7 x 6 = 42\n",
      "7 x 7 = 49\n",
      "7 x 8 = 56\n",
      "7 x 9 = 63\n",
      "7 x 10 = 70\n",
      "7 x 11 = 77\n",
      "7 x 12 = 84\n",
      "8 x 1 = 8\n",
      "8 x 2 = 16\n",
      "8 x 3 = 24\n",
      "8 x 4 = 32\n",
      "8 x 5 = 40\n",
      "8 x 6 = 48\n",
      "8 x 7 = 56\n",
      "8 x 8 = 64\n",
      "8 x 9 = 72\n",
      "8 x 10 = 80\n",
      "8 x 11 = 88\n",
      "8 x 12 = 96\n",
      "9 x 1 = 9\n",
      "9 x 2 = 18\n",
      "9 x 3 = 27\n",
      "9 x 4 = 36\n",
      "9 x 5 = 45\n",
      "9 x 6 = 54\n",
      "9 x 7 = 63\n",
      "9 x 8 = 72\n",
      "9 x 9 = 81\n",
      "9 x 10 = 90\n",
      "9 x 11 = 99\n",
      "9 x 12 = 108\n",
      "10 x 1 = 10\n",
      "10 x 2 = 20\n",
      "10 x 3 = 30\n",
      "10 x 4 = 40\n",
      "10 x 5 = 50\n",
      "10 x 6 = 60\n",
      "10 x 7 = 70\n",
      "10 x 8 = 80\n",
      "10 x 9 = 90\n",
      "10 x 10 = 100\n",
      "10 x 11 = 110\n",
      "10 x 12 = 120\n",
      "11 x 1 = 11\n",
      "11 x 2 = 22\n",
      "11 x 3 = 33\n",
      "11 x 4 = 44\n",
      "11 x 5 = 55\n",
      "11 x 6 = 66\n",
      "11 x 7 = 77\n",
      "11 x 8 = 88\n",
      "11 x 9 = 99\n",
      "11 x 10 = 110\n",
      "11 x 11 = 121\n",
      "11 x 12 = 132\n",
      "12 x 1 = 12\n",
      "12 x 2 = 24\n",
      "12 x 3 = 36\n",
      "12 x 4 = 48\n",
      "12 x 5 = 60\n",
      "12 x 6 = 72\n",
      "12 x 7 = 84\n",
      "12 x 8 = 96\n",
      "12 x 9 = 108\n",
      "12 x 10 = 120\n",
      "12 x 11 = 132\n",
      "12 x 12 = 144\n"
     ]
    }
   ],
   "source": [
    "for x in range(1 ,13):\n",
    "   for y in range(1 ,13):\n",
    "      print(x, \"x\",y, \"=\",x * y)"
   ]
  },
  {
   "cell_type": "code",
   "execution_count": 82,
   "metadata": {},
   "outputs": [],
   "source": [
    "# fucntion\n",
    "# it is used to write much line of code shorter"
   ]
  },
  {
   "cell_type": "code",
   "execution_count": 83,
   "metadata": {},
   "outputs": [
    {
     "name": "stdout",
     "output_type": "stream",
     "text": [
      "hello bro\n",
      "my gee\n"
     ]
    }
   ],
   "source": [
    "def greet():\n",
    "    print(\"hello bro\")\n",
    "    print(\"my gee\")\n",
    "\n",
    "    \n",
    "greet()   "
   ]
  },
  {
   "cell_type": "code",
   "execution_count": 84,
   "metadata": {},
   "outputs": [
    {
     "name": "stdout",
     "output_type": "stream",
     "text": [
      "my name is  victor ayomide\n",
      "my gee\n"
     ]
    }
   ],
   "source": [
    "#arguments\n",
    "def greet(first_name, last_name):  \n",
    "    # a Parameter is the inputs that you define for your function \n",
    "    print(f\"my name is  {first_name} {last_name}\")\n",
    "    print(\"my gee\")\n",
    "\n",
    "greet(\"victor\",\"ayomide\") \n",
    "# An argument is the actual value assigned to the giving Paromita?   "
   ]
  },
  {
   "cell_type": "code",
   "execution_count": 14,
   "metadata": {},
   "outputs": [
    {
     "name": "stdout",
     "output_type": "stream",
     "text": [
      "1 x 1 = 1\n",
      "2 x 2 = 4\n",
      "3 x 3 = 9\n",
      "4 x 4 = 16\n",
      "5 x 5 = 25\n",
      "6 x 6 = 36\n",
      "7 x 7 = 49\n",
      "8 x 8 = 64\n",
      "9 x 9 = 81\n",
      "10 x 10 = 100\n",
      "11 x 11 = 121\n",
      "12 x 12 = 144\n"
     ]
    }
   ],
   "source": [
    "for x in range(1, 13):\n",
    "    print(x, \"x\",x ,\"=\", x*x)"
   ]
  },
  {
   "cell_type": "code",
   "execution_count": 85,
   "metadata": {},
   "outputs": [
    {
     "name": "stdout",
     "output_type": "stream",
     "text": [
      "my name is victor\n"
     ]
    }
   ],
   "source": [
    "# return\n",
    "# the return statement is used to return a value from a fuction\n",
    "def name_greeting(name):\n",
    "    return f\"my name is {name}\"\n",
    "\n",
    "laddd = name_greeting(\"victor\")\n",
    "print(laddd)"
   ]
  },
  {
   "cell_type": "code",
   "execution_count": 86,
   "metadata": {},
   "outputs": [],
   "source": [
    "# we have two type of functions\n",
    "# Functions the carry out a task\n",
    "# and fuction that calculate and return a value"
   ]
  },
  {
   "cell_type": "code",
   "execution_count": 87,
   "metadata": {},
   "outputs": [
    {
     "ename": "TypeError",
     "evalue": "'int' object is not callable",
     "output_type": "error",
     "traceback": [
      "\u001b[0;31m---------------------------------------------------------------------------\u001b[0m",
      "\u001b[0;31mTypeError\u001b[0m                                 Traceback (most recent call last)",
      "Cell \u001b[0;32mIn[87], line 5\u001b[0m\n\u001b[1;32m      2\u001b[0m \u001b[38;5;28;01mdef\u001b[39;00m \u001b[38;5;21mincrement\u001b[39m(num, be):\n\u001b[1;32m      3\u001b[0m     \u001b[38;5;28;01mreturn\u001b[39;00m num \u001b[38;5;241m+\u001b[39m be\n\u001b[0;32m----> 5\u001b[0m result \u001b[38;5;241m=\u001b[39m \u001b[43mnumber\u001b[49m\u001b[43m(\u001b[49m\u001b[38;5;241;43m5\u001b[39;49m\u001b[43m,\u001b[49m\u001b[43m \u001b[49m\u001b[38;5;241;43m6\u001b[39;49m\u001b[43m)\u001b[49m\n\u001b[1;32m      6\u001b[0m \u001b[38;5;28mprint\u001b[39m(result)\n",
      "\u001b[0;31mTypeError\u001b[0m: 'int' object is not callable"
     ]
    }
   ],
   "source": [
    "# increment\n",
    "def increment(num, be):\n",
    "    return num + be\n",
    "\n",
    "result = number(5, 6)\n",
    "print(result)"
   ]
  },
  {
   "cell_type": "code",
   "execution_count": null,
   "metadata": {},
   "outputs": [
    {
     "data": {
      "text/plain": [
       "9"
      ]
     },
     "execution_count": 18,
     "metadata": {},
     "output_type": "execute_result"
    }
   ],
   "source": [
    "def increment(num, be):\n",
    "    return num + be\n",
    "\n",
    "increment(2, 7)"
   ]
  },
  {
   "cell_type": "code",
   "execution_count": null,
   "metadata": {},
   "outputs": [
    {
     "name": "stdout",
     "output_type": "stream",
     "text": [
      "9\n"
     ]
    }
   ],
   "source": [
    "# keyward argument\n",
    "# you can make your code readable by using keyward argument\n",
    "# it is used to pass the argument with the key\n",
    "\n",
    "print(increment(2, be=7))"
   ]
  },
  {
   "cell_type": "code",
   "execution_count": null,
   "metadata": {},
   "outputs": [
    {
     "name": "stdout",
     "output_type": "stream",
     "text": [
      "9\n"
     ]
    }
   ],
   "source": [
    "# default argument\n",
    "#all opotional parament should come after the required parameters \n",
    "# 7 is the default paramenter\n",
    "def increment(num, be=7):\n",
    "    return num + be\n",
    "print(increment(5))"
   ]
  },
  {
   "cell_type": "code",
   "execution_count": null,
   "metadata": {},
   "outputs": [
    {
     "name": "stdout",
     "output_type": "stream",
     "text": [
      "96\n"
     ]
    }
   ],
   "source": [
    "# argurment,wait,what\n",
    "# * it is used to pass variable numbers of argument to a function\n",
    "def multiply(*numbers):\n",
    "    total = 1\n",
    "    for number in numbers:\n",
    "        total *= number\n",
    "    return total  \n",
    "print(multiply(2,3,4,4))  "
   ]
  },
  {
   "cell_type": "code",
   "execution_count": null,
   "metadata": {},
   "outputs": [
    {
     "name": "stdout",
     "output_type": "stream",
     "text": [
      "{'id': 1, 'name': 'victor', 'age': 19}\n"
     ]
    }
   ],
   "source": [
    "# **args\n",
    "def user_name(**user):\n",
    "    print(user)\n",
    "\n",
    "user_name(id=1, name=\"victor\", age=19)\n"
   ]
  },
  {
   "cell_type": "code",
   "execution_count": null,
   "metadata": {},
   "outputs": [
    {
     "name": "stdout",
     "output_type": "stream",
     "text": [
      "1\n"
     ]
    }
   ],
   "source": [
    "def user_name(**user):\n",
    "    print(user[\"id\"])\n",
    "\n",
    "user_name(id=1, name=\"victor\", age=19)"
   ]
  },
  {
   "cell_type": "code",
   "execution_count": null,
   "metadata": {},
   "outputs": [],
   "source": [
    "# scope\n",
    " "
   ]
  },
  {
   "cell_type": "code",
   "execution_count": 13,
   "metadata": {},
   "outputs": [
    {
     "name": "stdout",
     "output_type": "stream",
     "text": [
      "fizzbuzz\n"
     ]
    }
   ],
   "source": [
    "# execise\n",
    "def fizz_buzz(input):\n",
    "    if input % 3 == 0 and input % 5 == 0:\n",
    "        return \"fizzbuzz\"\n",
    "    elif input % 3 == 0:\n",
    "        return \"fizz\"\n",
    "    elif input % 5 == 0:\n",
    "        return \"buzz\"\n",
    "    else:\n",
    "        return input\n",
    "print(fizz_buzz(15))    \n"
   ]
  },
  {
   "cell_type": "code",
   "execution_count": null,
   "metadata": {},
   "outputs": [],
   "source": []
  },
  {
   "cell_type": "markdown",
   "metadata": {},
   "source": [
    "for class = pascal case (VictorQuadri)\n",
    "for variable = snake case (victor_quadri)\n",
    "for function = camel case (victorQuadri)"
   ]
  },
  {
   "cell_type": "markdown",
   "metadata": {},
   "source": [
    "A python class for banking operations. \n",
    "\n",
    "A Bank class that has the attributes; customer_name and account_number, and account_balance\n",
    "\n",
    "Another Account class that inherits the the bank class. It has methods for withdrawal, check balance and deposit. \n",
    "\n",
    "You’re to print out the customer’s details. \n",
    "\n",
    "You’re also to implement the withdrawal, the deposit and the check balance methods."
   ]
  },
  {
   "cell_type": "code",
   "execution_count": 7,
   "metadata": {},
   "outputs": [
    {
     "name": "stdout",
     "output_type": "stream",
     "text": [
      "MR QUADRI VICTOR your account balance is 1000\n"
     ]
    }
   ],
   "source": [
    "class bank():\n",
    "    def __init__(self, name, balance):\n",
    "        self.name = name\n",
    "        self.balance = balance\n",
    "\n",
    "    def account_details(self):\n",
    "        print(\"MR\",self.name,\"your account balance is\", self.balance)\n",
    "\n",
    "\n",
    "profile = bank(\"QUADRI VICTOR\", 1000 )\n",
    "profile.account_details()"
   ]
  },
  {
   "cell_type": "code",
   "execution_count": 5,
   "metadata": {},
   "outputs": [
    {
     "name": "stdout",
     "output_type": "stream",
     "text": [
      "you have withdrawn the amount\n",
      "your current balance is  500\n",
      "you have dopsited your amount\n",
      "your current balance is 800\n",
      "your balance is  800\n"
     ]
    }
   ],
   "source": [
    "\n",
    "\n",
    "\n",
    "class account(bank):\n",
    "    def deposit(self):\n",
    "        amount = int(input(\"input the amount you want to deposit\"))  \n",
    "        self.balance += amount\n",
    "        print(\"you have dopsited your amount\")\n",
    "        print(\"your current balance is\", self.balance)\n",
    "           \n",
    "\n",
    "    def withdrawal(self):\n",
    "        amount = int(input(\"enter the amount to withdraw:\"))\n",
    "        if amount > self.balance:\n",
    "            print(\"insufficient balance\")\n",
    "        \n",
    "        else:\n",
    "            print(\"you have withdrawn the amount\")\n",
    "            self.balance = self.balance - amount\n",
    "            print(\"your current balance is \", self.balance)\n",
    "            return self.balance\n",
    "        \n",
    "\n",
    "    def check_balance(self):\n",
    "        print(\"your balance is \", self.balance)   \n",
    "    \n",
    "    \n",
    "    \n",
    "\n",
    "profile = account(\"QUADRI VICTOR\", 1000 )\n",
    "profile.withdrawal()\n",
    "profile.deposit()\n",
    "profile.check_balance() \n"
   ]
  },
  {
   "cell_type": "code",
   "execution_count": 93,
   "metadata": {},
   "outputs": [
    {
     "name": "stdout",
     "output_type": "stream",
     "text": [
      "you have withdrawn the amount\n",
      "your current balance is  1000\n"
     ]
    },
    {
     "data": {
      "text/plain": [
       "1000"
      ]
     },
     "execution_count": 93,
     "metadata": {},
     "output_type": "execute_result"
    }
   ],
   "source": [
    "profile.withdrawal()"
   ]
  },
  {
   "cell_type": "code",
   "execution_count": 6,
   "metadata": {},
   "outputs": [],
   "source": []
  },
  {
   "cell_type": "code",
   "execution_count": null,
   "metadata": {},
   "outputs": [],
   "source": []
  }
 ],
 "metadata": {
  "kernelspec": {
   "display_name": "Python 3",
   "language": "python",
   "name": "python3"
  },
  "language_info": {
   "codemirror_mode": {
    "name": "ipython",
    "version": 3
   },
   "file_extension": ".py",
   "mimetype": "text/x-python",
   "name": "python",
   "nbconvert_exporter": "python",
   "pygments_lexer": "ipython3",
   "version": "3.9.6"
  }
 },
 "nbformat": 4,
 "nbformat_minor": 2
}
