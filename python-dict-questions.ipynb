{
 "cells": [
  {
   "cell_type": "code",
   "execution_count": null,
   "metadata": {},
   "outputs": [],
   "source": [
    "#Create a dictionary with key-value pairs for a person's name and age."
   ]
  },
  {
   "cell_type": "code",
   "execution_count": null,
   "metadata": {},
   "outputs": [
    {
     "name": "stdout",
     "output_type": "stream",
     "text": [
      "{'name': 'Victor', 'age': 19}\n"
     ]
    }
   ],
   "source": [
    "person = {\n",
    "    \"name\": \"Victor\",\n",
    "    \"age\": 19\n",
    "}\n",
    "print(person)\n"
   ]
  },
  {
   "cell_type": "code",
   "execution_count": null,
   "metadata": {},
   "outputs": [],
   "source": [
    "#Access the value associated with the key \"age\" in the `person` dictionary."
   ]
  },
  {
   "cell_type": "code",
   "execution_count": null,
   "metadata": {},
   "outputs": [
    {
     "name": "stdout",
     "output_type": "stream",
     "text": [
      "19\n"
     ]
    }
   ],
   "source": [
    "person = {\n",
    "    \"name\": \"Victor\",\n",
    "    \"age\": 19\n",
    "}\n",
    "\n",
    "age =person[\"age\"]\n",
    "print(age)"
   ]
  },
  {
   "cell_type": "code",
   "execution_count": null,
   "metadata": {},
   "outputs": [],
   "source": [
    "#Add a new key-value pair \"city\" with the value \"New York\" to the `person` dictionary."
   ]
  },
  {
   "cell_type": "code",
   "execution_count": null,
   "metadata": {},
   "outputs": [
    {
     "name": "stdout",
     "output_type": "stream",
     "text": [
      "{'name': 'Victor', 'age': 19, 'city': 'new york'}\n"
     ]
    }
   ],
   "source": [
    "person = {\n",
    "    \"name\": \"Victor\",\n",
    "    \"age\": 19\n",
    "}\n",
    "person.update({\"city\": \"new york\"})\n",
    "print(person)"
   ]
  },
  {
   "cell_type": "code",
   "execution_count": null,
   "metadata": {},
   "outputs": [],
   "source": [
    "#Get the value associated with a key using the `dict.get()` method with a default value."
   ]
  },
  {
   "cell_type": "code",
   "execution_count": null,
   "metadata": {},
   "outputs": [],
   "source": [
    "#Create two dictionaries and Merge them."
   ]
  },
  {
   "cell_type": "code",
   "execution_count": null,
   "metadata": {},
   "outputs": [
    {
     "name": "stdout",
     "output_type": "stream",
     "text": [
      "{'name': 'Victor', 'age': 19, 'city': 'nigeria', 'state': 'lagos'}\n"
     ]
    }
   ],
   "source": [
    "person = {\n",
    "    \"name\": \"Victor\",\n",
    "    \"age\": 19\n",
    "}\n",
    "\n",
    "per = {\n",
    "    \"city\": \"nigeria\",\n",
    "    \"state\": \"lagos\"\n",
    "}\n",
    "person.update({\n",
    "    \"city\": \"nigeria\",\n",
    "    \"state\": \"lagos\"\n",
    "})\n",
    "print(person)"
   ]
  },
  {
   "cell_type": "code",
   "execution_count": null,
   "metadata": {},
   "outputs": [],
   "source": [
    "#Find the key with the maximum value in a dictionary."
   ]
  },
  {
   "cell_type": "code",
   "execution_count": null,
   "metadata": {},
   "outputs": [],
   "source": []
  },
  {
   "cell_type": "code",
   "execution_count": null,
   "metadata": {},
   "outputs": [],
   "source": [
    "#Sort the person dictionary by its keys."
   ]
  },
  {
   "cell_type": "code",
   "execution_count": null,
   "metadata": {},
   "outputs": [],
   "source": [
    "#Get a list of all keys in a dictionary."
   ]
  },
  {
   "cell_type": "code",
   "execution_count": null,
   "metadata": {},
   "outputs": [
    {
     "data": {
      "text/plain": [
       "dict_keys(['name', 'age'])"
      ]
     },
     "execution_count": 41,
     "metadata": {},
     "output_type": "execute_result"
    }
   ],
   "source": [
    "person = {\n",
    "    \"name\": \"Victor\",\n",
    "    \"age\": 19\n",
    "}\n",
    "person.keys()"
   ]
  },
  {
   "cell_type": "code",
   "execution_count": null,
   "metadata": {},
   "outputs": [
    {
     "ename": "AttributeError",
     "evalue": "'list' object has no attribute 'item'",
     "output_type": "error",
     "traceback": [
      "\u001b[0;31m---------------------------------------------------------------------------\u001b[0m",
      "\u001b[0;31mAttributeError\u001b[0m                            Traceback (most recent call last)",
      "Cell \u001b[0;32mIn[42], line 3\u001b[0m\n\u001b[1;32m      1\u001b[0m \u001b[38;5;66;03m#Convert a list of tuples into a dictionary.\u001b[39;00m\n\u001b[1;32m      2\u001b[0m tuple_list \u001b[38;5;241m=\u001b[39m [(\u001b[38;5;124m\"\u001b[39m\u001b[38;5;124ma\u001b[39m\u001b[38;5;124m\"\u001b[39m, \u001b[38;5;241m1\u001b[39m), (\u001b[38;5;124m\"\u001b[39m\u001b[38;5;124mb\u001b[39m\u001b[38;5;124m\"\u001b[39m, \u001b[38;5;241m2\u001b[39m), (\u001b[38;5;124m\"\u001b[39m\u001b[38;5;124mc\u001b[39m\u001b[38;5;124m\"\u001b[39m, \u001b[38;5;241m3\u001b[39m)]\n\u001b[0;32m----> 3\u001b[0m \u001b[43mtuple_list\u001b[49m\u001b[38;5;241;43m.\u001b[39;49m\u001b[43mitem\u001b[49m()\n",
      "\u001b[0;31mAttributeError\u001b[0m: 'list' object has no attribute 'item'"
     ]
    }
   ],
   "source": [
    "#Convert a list of tuples into a dictionary.\n",
    "tuple_list = [(\"a\", 1), (\"b\", 2), (\"c\", 3)]\n",
    "tuple_list.item()"
   ]
  },
  {
   "cell_type": "code",
   "execution_count": null,
   "metadata": {},
   "outputs": [],
   "source": [
    "#Get a list of tuples containing key-value pairs from a dictionary."
   ]
  },
  {
   "cell_type": "code",
   "execution_count": null,
   "metadata": {},
   "outputs": [],
   "source": [
    "#Update values in person dictionary using another dictionary.\n",
    "new_data = {\"age\": 31, \"city\": \"Los Angeles\"}\n"
   ]
  },
  {
   "cell_type": "code",
   "execution_count": null,
   "metadata": {},
   "outputs": [
    {
     "name": "stdout",
     "output_type": "stream",
     "text": [
      "you are a baby\n"
     ]
    }
   ],
   "source": [
    "age = 10\n",
    "\n",
    "if age>= 18:\n",
    "    print(\"you are a student\")\n",
    "elif age>= 13:\n",
    "    print(\"you are are child\") \n",
    "\n",
    "else:\n",
    "    print(\"you are a baby\")   \n",
    "    "
   ]
  },
  {
   "cell_type": "code",
   "execution_count": null,
   "metadata": {},
   "outputs": [
    {
     "name": "stdout",
     "output_type": "stream",
     "text": [
      "b is a\n"
     ]
    }
   ],
   "source": [
    "a = 35\n",
    "b = 35\n",
    "if b<a:\n",
    "    print(\"b is lesser\")\n",
    "elif b>a:\n",
    "    print(\"b is great than a\")\n",
    "elif b==a:\n",
    "    print (\"b is  a\")  \n",
    "else:\n",
    "    print (\"b is a\")          "
   ]
  },
  {
   "cell_type": "code",
   "execution_count": 59,
   "metadata": {},
   "outputs": [
    {
     "name": "stdout",
     "output_type": "stream",
     "text": [
      "you are eligible to vote\n"
     ]
    }
   ],
   "source": [
    "age = 18\n",
    "location = \"agric\"\n",
    "user_location = input(\"what is your location: \")\n",
    "user_age = input(\"what is your age: \")\n",
    "#print(age,\"\",location)\n",
    "\n",
    "\n",
    "if int(user_age)>= 18 and user_location == \"agric\":\n",
    "       print(\"you are eligible to vote\")\n",
    "else:\n",
    "       print(\"you are not eligible\")      "
   ]
  },
  {
   "cell_type": "code",
   "execution_count": 58,
   "metadata": {},
   "outputs": [
    {
     "name": "stdout",
     "output_type": "stream",
     "text": [
      "you are eligible to vote\n",
      "you age is eligible\n"
     ]
    }
   ],
   "source": [
    "age = 18\n",
    "location = \"agric\"\n",
    "user_age = input(\"what is your age: \")\n",
    "\n",
    "\n",
    "if int(user_age)>= 18:\n",
    "       user_location = input(\"what is your location: \")\n",
    "       if user_location== \"agric\":\n",
    "              print(\"you are eligible to vote\")\n",
    "       else:\n",
    "              print(\"your are not eligible\") \n",
    "\n",
    "       print(\"you age is eligible\")      \n",
    "\n",
    "else:\n",
    "       print(\"you are not of age\") \n",
    "\n",
    "\n",
    "\n",
    "\n",
    " "
   ]
  },
  {
   "cell_type": "markdown",
   "metadata": {},
   "source": [
    "ass\n",
    "1: i am real estate professional i have plans selling to those salary is above 500k so that i am assu that they will on the land on time\n",
    "write a code to help me know who to sell to\n"
   ]
  },
  {
   "cell_type": "code",
   "execution_count": 1,
   "metadata": {},
   "outputs": [
    {
     "name": "stdout",
     "output_type": "stream",
     "text": [
      "you are not eligible to buy the land\n"
     ]
    }
   ],
   "source": [
    "salary = 500000\n",
    "user_salary =input(\"what is your monthly salary\")\n",
    "\n",
    "if int(user_salary)>= 500000:\n",
    "      print(\"you are eligible to buy the land\") \n",
    "\n",
    "else:\n",
    "      print(\"you are not eligible to buy the land\")     "
   ]
  },
  {
   "cell_type": "code",
   "execution_count": 3,
   "metadata": {},
   "outputs": [
    {
     "name": "stdout",
     "output_type": "stream",
     "text": [
      "number not divisible by 7\n"
     ]
    }
   ],
   "source": [
    "\n",
    "user_num = int(input(\"input you number\"))\n",
    "if user_num % 7 ==0:\n",
    "    print(\"number divisible by 7\")\n",
    "else:\n",
    "    print(\"number not is divisible\")    "
   ]
  },
  {
   "cell_type": "code",
   "execution_count": 5,
   "metadata": {},
   "outputs": [
    {
     "name": "stdout",
     "output_type": "stream",
     "text": [
      "odd\n"
     ]
    }
   ],
   "source": [
    "user_nnn = int(input(\"input you number\"))\n",
    "if user_nnn % 2 == 0:\n",
    "    print(\"even\")\n",
    "else:\n",
    "    print(\"odd\")   "
   ]
  },
  {
   "cell_type": "code",
   "execution_count": 20,
   "metadata": {},
   "outputs": [
    {
     "name": "stdout",
     "output_type": "stream",
     "text": [
      "1100\n",
      "you are correct\n"
     ]
    }
   ],
   "source": [
    "lucknumber = 10\n",
    "walletbalance = 1000\n",
    "user_lucknumber = input(\"your lucky number\")\n",
    "if int(user_lucknumber) == 10:\n",
    "       walletbalance += 100\n",
    "       print(walletbalance)\n",
    "       print (\"you are correct\")\n",
    "else:\n",
    "       user_lucknumber = input(\"try again\")  \n",
    "       if int(user_lucknumber) == 10:\n",
    "            walletbalance += 100\n",
    "            print(walletbalance)\n",
    "            print(\"you are correct\")\n",
    "       else: \n",
    "           \n",
    "          user_lucknumber = input(\"try again\")  \n",
    "          if int(user_lucknumber) == 10:\n",
    "            walletbalance += 100\n",
    "            print(walletbalance)\n",
    "            print(\"you are correct\")\n",
    "          else:  \n",
    "              \n",
    "            walletbalance -= 100\n",
    "            print(walletbalance)\n",
    "            print(\"you are not correct\")   \n",
    "              \n",
    "          walletbalance -= 100\n",
    "          print(walletbalance)\n",
    "          print(\"you are not correct\")   \n",
    "             \n",
    "          walletbalance -= 100\n",
    "          print(walletbalance)\n",
    "          print(\"you are not correct\")                 \n",
    "\n"
   ]
  },
  {
   "cell_type": "code",
   "execution_count": null,
   "metadata": {},
   "outputs": [],
   "source": [
    "# loop is repitition\n",
    "#fool loop \n",
    "#while loop"
   ]
  },
  {
   "cell_type": "code",
   "execution_count": null,
   "metadata": {},
   "outputs": [],
   "source": [
    "#ass\n",
    "#elumirate to example two example of code"
   ]
  }
 ],
 "metadata": {
  "kernelspec": {
   "display_name": "Python 3",
   "language": "python",
   "name": "python3"
  },
  "language_info": {
   "codemirror_mode": {
    "name": "ipython",
    "version": 3
   },
   "file_extension": ".py",
   "mimetype": "text/x-python",
   "name": "python",
   "nbconvert_exporter": "python",
   "pygments_lexer": "ipython3",
   "version": "3.9.6"
  },
  "orig_nbformat": 4
 },
 "nbformat": 4,
 "nbformat_minor": 2
}
